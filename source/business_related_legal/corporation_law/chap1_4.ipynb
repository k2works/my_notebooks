{
 "cells": [
  {
   "cell_type": "code",
   "execution_count": 2,
   "metadata": {},
   "outputs": [
    {
     "name": "stdout",
     "output_type": "stream",
     "text": [
      "Requirement already satisfied: iplantuml in /usr/local/lib/python3.7/site-packages (0.1.1)\r\n",
      "Requirement already satisfied: plantweb in /usr/local/lib/python3.7/site-packages (from iplantuml) (1.1.0)\r\n",
      "Requirement already satisfied: docutils in /usr/local/lib/python3.7/site-packages (from plantweb->iplantuml) (0.14)\r\n",
      "Requirement already satisfied: requests in /usr/local/lib/python3.7/site-packages (from plantweb->iplantuml) (2.19.1)\r\n",
      "Requirement already satisfied: six in /usr/local/lib/python3.7/site-packages (from plantweb->iplantuml) (1.11.0)\r\n",
      "Requirement already satisfied: idna<2.8,>=2.5 in /usr/local/lib/python3.7/site-packages (from requests->plantweb->iplantuml) (2.7)\r\n",
      "Requirement already satisfied: chardet<3.1.0,>=3.0.2 in /usr/local/lib/python3.7/site-packages (from requests->plantweb->iplantuml) (3.0.4)\r\n",
      "Requirement already satisfied: certifi>=2017.4.17 in /usr/local/lib/python3.7/site-packages (from requests->plantweb->iplantuml) (2018.8.13)\r\n",
      "Requirement already satisfied: urllib3<1.24,>=1.21.1 in /usr/local/lib/python3.7/site-packages (from requests->plantweb->iplantuml) (1.23)\r\n"
     ]
    }
   ],
   "source": [
    "import sys\n",
    "sys.path.insert(1, \"/Users/k2works/GoogleDrive/Repository/my_notebooks/source/business_related_legal/corporation_law\")\n",
    "!{sys.executable} -m pip install iplantuml\n",
    "import iplantuml"
   ]
  },
  {
   "cell_type": "markdown",
   "metadata": {
    "collapsed": true
   },
   "source": [
    "# 株式"
   ]
  },
  {
   "cell_type": "markdown",
   "metadata": {},
   "source": [
    "## 株主の権利\n",
    "### 株式\n",
    "株式とは、株式会社における社員の地位を表現する言葉\n",
    "\n",
    "株式は、細分化された均一的な割合的単位（持分複数主義）\n",
    "\n",
    "社員が出資の額に応じて大きさの異なる１個の地位を有する持分会社とは異なる（持分単一主義）\n",
    "\n",
    "### 株主の権利\n",
    "+ 自益権・・・株主が会社から経済的利益を受けることを目的とする権利\n",
    "+ 共益権・・・株主が会社の経営に参与し、または業務執行の監督・是正をする権利\n",
    "    + 単独株主権・・・一株でも有していれば行使することのできる権利\n",
    "    + 少数株主権・・・総株主の議決権の一定割合以上または発行済株式の一定割合を有する株主のみが行使できる権利\n",
    "\n",
    "### 株主平等原則\n",
    "株主平等原則とは、株主が、株主としての資格に基づく法律関係について、その所有する株式の内容および数に応じて平等の取扱を受けること"
   ]
  },
  {
   "cell_type": "code",
   "execution_count": 2,
   "metadata": {},
   "outputs": [
    {
     "name": "stderr",
     "output_type": "stream",
     "text": [
      ".....\n",
      "----------------------------------------------------------------------\n",
      "Ran 5 tests in 0.004s\n",
      "\n",
      "OK\n"
     ]
    }
   ],
   "source": [
    "import unittest\n",
    "from 資本.株式 import 株式\n",
    "from 資本.株式 import 自益権\n",
    "from 資本.株式 import 共益権\n",
    "from 資本.株式 import 単独株主権\n",
    "from 資本.株式 import 少数株主権\n",
    "\n",
    "\n",
    "class 株式テスト(unittest.TestCase):\n",
    "    def setUp(self):\n",
    "        self.__株式 = 株式(1)\n",
    "\n",
    "    def test_株式は細分化された均一的な割合単位(self):\n",
    "        self.assertEqual(str(self.__株式), '1株')\n",
    "\n",
    "    def test_持ち分は社員の出資の額に応じて異なる単位(self):\n",
    "        pass\n",
    "\n",
    "    def test_株主は自益権を持つ(self):\n",
    "        self.assertEqual(type(self.__株式.自益権), 自益権)\n",
    "\n",
    "    def test_株主は共益権を持つ(self):\n",
    "        self.assertEqual(type(self.__株式.共益権), 共益権)\n",
    "\n",
    "    def test_共益権には単独株主権と少数株主権がある(self):\n",
    "        共益権 = self.__株式.共益権\n",
    "        self.assertEqual(type(共益権.単独株主権), 単独株主権)\n",
    "        self.assertEqual(type(共益権.少数株主権), 少数株主権)\n",
    "\n",
    "\n",
    "if __name__ == \"__main__\":\n",
    "    unittest.main(argv=['first-arg-is-ignored'], exit=False)\n"
   ]
  },
  {
   "cell_type": "markdown",
   "metadata": {},
   "source": [
    "## 種類株式\n",
    "\n",
    "1. 優先株・劣後株\n",
    "1. 議決権制限株式\n",
    "1. 取得請求権付（種類）株式\n",
    "1. 取得条項付（種類）株式\n",
    "1. 全部取得条項付（種類）株式\n",
    "1. 拒否権付株式（黄金株）"
   ]
  },
  {
   "cell_type": "code",
   "execution_count": 5,
   "metadata": {},
   "outputs": [
    {
     "name": "stderr",
     "output_type": "stream",
     "text": [
      "..............\n",
      "----------------------------------------------------------------------\n",
      "Ran 14 tests in 0.009s\n",
      "\n",
      "OK\n"
     ]
    }
   ],
   "source": [
    "import unittest\n",
    "from 資本.種類株式 import 優先株\n",
    "from 資本.種類株式 import 劣後株\n",
    "from 資本.種類株式 import 議決権制限株式\n",
    "from 資本.種類株式 import 取得請求権付株式\n",
    "from 資本.種類株式 import 取得条項付株式\n",
    "from 資本.種類株式 import 全部取得条項付種類株式\n",
    "from 資本.種類株式 import 拒否権付株式\n",
    "\n",
    "\n",
    "class 種類株式テスト(unittest.TestCase):\n",
    "    def setUp(self):\n",
    "        self.__優先株 = 優先株(1)\n",
    "        self.__劣後株 = 劣後株(1)\n",
    "        self.__議決権制限株式 = 議決権制限株式(1)\n",
    "        self.__取得請求権付株式 = 取得請求権付株式(1)\n",
    "        self.__取得条項付株式 = 取得条項付株式(1)\n",
    "        self.__全部取得条項付種類株式 = 全部取得条項付種類株式(1)\n",
    "        self.__拒否権付株式 = 拒否権付株式(1)\n",
    "\n",
    "    def test_種類株式には優先株がある(self):\n",
    "        self.assertEqual(type(self.__優先株), 優先株)\n",
    "        self.assertEqual(str(self.__優先株), '他の株式に比べて優先的取扱を受ける株式')\n",
    "\n",
    "    def test_種類株式には劣後株がある(self):\n",
    "        self.assertEqual(type(self.__劣後株), 劣後株)\n",
    "        self.assertEqual(str(self.__劣後株), '配当や残余財産の分配について、他の株式に比べて劣後的内容を持つ株式')\n",
    "\n",
    "    def test_種類株式には議決権制限株式がある(self):\n",
    "        self.assertEqual(type(self.__議決権制限株式), 議決権制限株式)\n",
    "        self.assertEqual(str(self.__議決権制限株式), '全部議決権制限株式と一部議決権制限株式')\n",
    "\n",
    "    def test_議決権制限株式は公開会社では発行済株式総数の2分の1までに制限(self):\n",
    "        pass\n",
    "\n",
    "    def test_議決権制限株式は非公開会社では制限なし(self):\n",
    "        pass\n",
    "\n",
    "    def test_種類株式には取得請求権付株式がある(self):\n",
    "        self.assertEqual(type(self.__取得請求権付株式), 取得請求権付株式)\n",
    "        self.assertEqual(str(self.__取得請求権付株式), '株主がその株式会社に対して株式の取得を請求することができる株式')\n",
    "\n",
    "    def test_種類株式には所得条項付株式がある(self):\n",
    "        self.assertEqual(type(self.__取得条項付株式), 取得条項付株式)\n",
    "        self.assertEqual(str(self.__取得条項付株式), '株式会社が一定の事由が生じたことを条件として強制的にその株式を株主から取得することができる株式')\n",
    "\n",
    "    def tset_種類株式には全部取得条項付株式がある(self):\n",
    "        self.assertEqual(type(self.__全部取得条項付種類株式), 全部取得条項付種類株式)\n",
    "        self.assertEqual(str(self.__全部取得条項付種類株式),\n",
    "                         \"2つ以上の種類株式発行会社が株主総会の特別決議によってそのうちの1つの種類株式の全部またはは複数の種類株式のの全部を取得することができる株式\"\n",
    "                         )\n",
    "\n",
    "    def test_種類株式には拒否権付株式がある(self):\n",
    "        self.assertEqual(type(self.__拒否権付株式), 拒否権付株式)\n",
    "        self.assertEqual(str(self.__拒否権付株式), '株主総会等の決議のほか当該種類株式の種類株主総会の決議を必要とする株式')\n",
    "\n",
    "\n",
    "if __name__ == '__main__':\n",
    "    unittest.main(argv=['none'], exit=False)\n"
   ]
  },
  {
   "cell_type": "markdown",
   "metadata": {},
   "source": [
    "## 株式の譲渡\n",
    "\n",
    "### 公開会社と非公開会社\n",
    "発行株式の「全部」に譲渡制限を定めている会社が非公開会社、それ以外は公開会社\n",
    "\n",
    "### 承認機関\n",
    "承認機関は株主総会（普通決議）\n",
    "\n",
    "### 承認期間\n",
    "２週間以内に決定通知を出さない場合は、承認したものとみなされる\n",
    "\n",
    "### 売買価格の決定\n",
    "原則として売買当事者間（株式会社と商人請求者）の協議買取通知の日から20日以内に裁判所に対して、売買価格の決定の申立をすることができる"
   ]
  },
  {
   "cell_type": "code",
   "execution_count": 6,
   "metadata": {},
   "outputs": [
    {
     "name": "stderr",
     "output_type": "stream",
     "text": [
      "..............\n",
      "----------------------------------------------------------------------\n",
      "Ran 14 tests in 0.009s\n",
      "\n",
      "OK\n"
     ]
    }
   ],
   "source": [
    "import unittest\n",
    "\n",
    "from 会社.株式会社 import 株式会社\n",
    "from 社員.社員 import 有限責任社員\n",
    "from 社員.責任 import 間接責任\n",
    "from 資本.資本 import 金銭\n",
    "from 資本.資本 import 信用\n",
    "from 資本.資本 import 労務\n",
    "from 登記.発起設立 import 発起設立\n",
    "\n",
    "\n",
    "class 株式の譲渡テスト(unittest.TestCase):   \n",
    "    def setUp(self):\n",
    "        発起人 = 有限責任社員(間接責任(), {'財産': 金銭(1), '信用': None, '労務': None})\n",
    "        self.__株式会社 = 株式会社([発起人])\n",
    "        self.__会社 = 発起設立(self.__株式会社).実施()        \n",
    "        \n",
    "    def test_非公開会社は発行株式の全部に譲渡制限を定めている(self):\n",
    "        pass\n",
    "    \n",
    "    def test_公開会社は発行株式の全部に譲渡制限を定めていない(self):\n",
    "        pass\n",
    "    \n",
    "    def test_公開会社は発行株式の一部に譲渡制限を定めている(self):\n",
    "        pass\n",
    "    \n",
    "    def test_株式の譲渡の承認機関は株主総会の普通決議(self):\n",
    "        pass\n",
    "    \n",
    "    def test_株式の譲渡の承認機関は2週間以内(self):\n",
    "        pass\n",
    "    \n",
    "    def test_株式の譲渡の売買価格の決定は20日以内(self):\n",
    "        pass\n",
    "\n",
    "    \n",
    "if __name__ == '__main__':\n",
    "    unittest.main(argv=['none'], exit=False)"
   ]
  },
  {
   "cell_type": "markdown",
   "metadata": {},
   "source": [
    "## 自己株式\n",
    "\n",
    "原則として、剰余金の分配可能額の範囲内でなければ、自己株式の取得をすることはできない"
   ]
  }
 ],
 "metadata": {
  "kernelspec": {
   "display_name": "Python 3",
   "language": "python",
   "name": "python3"
  },
  "language_info": {
   "codemirror_mode": {
    "name": "ipython",
    "version": 3
   },
   "file_extension": ".py",
   "mimetype": "text/x-python",
   "name": "python",
   "nbconvert_exporter": "python",
   "pygments_lexer": "ipython3",
   "version": "3.7.0"
  }
 },
 "nbformat": 4,
 "nbformat_minor": 1
}

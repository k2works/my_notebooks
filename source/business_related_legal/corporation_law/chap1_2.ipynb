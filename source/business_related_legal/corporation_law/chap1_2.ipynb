{
 "cells": [
  {
   "cell_type": "code",
   "execution_count": 1,
   "metadata": {},
   "outputs": [
    {
     "ename": "ModuleNotFoundError",
     "evalue": "No module named 'notebookutil'",
     "traceback": [
      "\u001b[0;31m---------------------------------------------------------------------------\u001b[0m",
      "\u001b[0;31mModuleNotFoundError\u001b[0m                       Traceback (most recent call last)",
      "\u001b[0;32m<ipython-input-1-7978b39c0109>\u001b[0m in \u001b[0;36m<module>\u001b[0;34m()\u001b[0m\n\u001b[1;32m      1\u001b[0m \u001b[0;32mimport\u001b[0m \u001b[0msys\u001b[0m\u001b[0;34m\u001b[0m\u001b[0m\n\u001b[0;32m----> 2\u001b[0;31m \u001b[0;32mimport\u001b[0m \u001b[0mnotebookutil\u001b[0m \u001b[0;32mas\u001b[0m \u001b[0mnbu\u001b[0m\u001b[0;34m\u001b[0m\u001b[0m\n\u001b[0m\u001b[1;32m      3\u001b[0m \u001b[0msys\u001b[0m\u001b[0;34m.\u001b[0m\u001b[0mmeta_path\u001b[0m\u001b[0;34m.\u001b[0m\u001b[0mappend\u001b[0m\u001b[0;34m(\u001b[0m\u001b[0mnbu\u001b[0m\u001b[0;34m.\u001b[0m\u001b[0mNotebookFinder\u001b[0m\u001b[0;34m(\u001b[0m\u001b[0;34m)\u001b[0m\u001b[0;34m)\u001b[0m\u001b[0;34m\u001b[0m\u001b[0m\n\u001b[1;32m      4\u001b[0m \u001b[0;32mfrom\u001b[0m \u001b[0mchap1_1\u001b[0m \u001b[0;32mimport\u001b[0m \u001b[0;34m*\u001b[0m\u001b[0;34m\u001b[0m\u001b[0m\n",
      "\u001b[0;31mModuleNotFoundError\u001b[0m: No module named 'notebookutil'"
     ],
     "output_type": "error"
    }
   ],
   "source": [
    "import sys\n",
    "import notebookutil as nbu\n",
    "sys.meta_path.append(nbu.NotebookFinder())\n",
    "from chap1_1 import *"
   ]
  },
  {
   "cell_type": "markdown",
   "metadata": {
    "collapsed": true
   },
   "source": [
    "# 会社の設立"
   ]
  },
  {
   "cell_type": "markdown",
   "metadata": {},
   "source": [
    "## 会社の設立\n",
    "\n",
    "### 発起設立\n",
    "\n",
    "### 募集設立\n"
   ]
  },
  {
   "cell_type": "code",
   "execution_count": 2,
   "metadata": {},
   "outputs": [],
   "source": [
    "from abc import ABC\n",
    "from abc import abstractmethod\n",
    "\n",
    "\n",
    "class 会社設立(ABC):\n",
    "    def __init__(self, 会社):\n",
    "        self._会社 = 会社\n",
    "        self._出資者 = []\n",
    "        for 出資者 in self._会社.社員:\n",
    "            self._出資者.append(出資者)\n",
    "\n",
    "    @abstractmethod\n",
    "    def 実施(self):\n",
    "        pass\n",
    "\n",
    "    def __定款の作成(self):\n",
    "        pass\n",
    "\n",
    "    def __出資の履行(self):\n",
    "        pass\n",
    "\n",
    "    def __機関の設置(self):\n",
    "        pass"
   ]
  },
  {
   "cell_type": "code",
   "execution_count": 3,
   "metadata": {},
   "outputs": [
    {
     "name": "stderr",
     "output_type": "stream",
     "text": [
      "/usr/local/lib/python3.7/site-packages/ipykernel_launcher.py:36: DeprecationWarning: Please use assertEqual instead.\n",
      ".chap1_1.ipynb:86: DeprecationWarning: Please use assertEqual instead.\n",
      "  \"無限責任社員 *- - 間接責任\\n\",\n",
      "............................................"
     ]
    },
    {
     "name": "stdout",
     "output_type": "stream",
     "text": [
      "公証人による定款認証\n",
      "出資の払込\n",
      "取締役の選任\n",
      "検査役の調査等\n",
      "設立登記\n"
     ]
    },
    {
     "name": "stderr",
     "output_type": "stream",
     "text": [
      "\n",
      "----------------------------------------------------------------------\n",
      "Ran 45 tests in 0.043s\n",
      "\n",
      "OK\n"
     ]
    }
   ],
   "source": [
    "import unittest\n",
    "\n",
    "\n",
    "class 発起設立(会社設立):\n",
    "    def 実施(self):\n",
    "        self.__定款の作成()\n",
    "        self.__出資の履行()\n",
    "        self.__機関の設置()\n",
    "        return 株式会社(self._出資者,\n",
    "                    設立登記=self._設立登記\n",
    "                    )\n",
    "\n",
    "    def __定款の作成(self):\n",
    "        print('公証人による定款認証')\n",
    "\n",
    "    def __出資の履行(self):\n",
    "        print('出資の払込')\n",
    "\n",
    "    def __機関の設置(self):\n",
    "        print('取締役の選任')\n",
    "        print('検査役の調査等')\n",
    "        self.__設立登記()\n",
    "\n",
    "    def __設立登記(self):\n",
    "        print('設立登記')\n",
    "        self._設立登記 = '発起人が定めた日から2週間以内'\n",
    "\n",
    "\n",
    "\n",
    "\n",
    "class 会社設立テスト(unittest.TestCase):\n",
    "    def test_発起設立では発起人が設立時に発行するすべての株式を引き受ける(self):\n",
    "        _発起人 = 有限責任社員(間接責任(), {'財産': 金銭(1), '信用': None, '労務': None})\n",
    "        _株式会社 = 株式会社([_発起人])\n",
    "        _会社 = 発起設立(_株式会社).実施()\n",
    "        self.assertEquals(len(_会社.社員), 1)\n",
    "\n",
    "\n",
    "if __name__ == '__main__':\n",
    "    unittest.main(argv=['first-arg-is-ignored'], exit=False)"
   ]
  },
  {
   "cell_type": "code",
   "execution_count": 4,
   "metadata": {},
   "outputs": [
    {
     "name": "stderr",
     "output_type": "stream",
     "text": [
      "/usr/local/lib/python3.7/site-packages/ipykernel_launcher.py:39: DeprecationWarning: Please use assertNotEqual instead.\n",
      ".chap1_1.ipynb:86: DeprecationWarning: Please use assertEqual instead.\n",
      "  \"無限責任社員 *- - 間接責任\\n\",\n",
      "............................................"
     ]
    },
    {
     "name": "stdout",
     "output_type": "stream",
     "text": [
      "公証人による定款認証\n",
      "株主の募集\n",
      "出資の払込\n",
      "設立総会\n",
      "取締役の選任\n",
      "検査役の調査等\n",
      "設立登記\n"
     ]
    },
    {
     "name": "stderr",
     "output_type": "stream",
     "text": [
      "\n",
      "----------------------------------------------------------------------\n",
      "Ran 45 tests in 0.030s\n",
      "\n",
      "OK\n"
     ]
    }
   ],
   "source": [
    "class 募集設立(会社設立):\n",
    "    def 実施(self):\n",
    "        self.__定款の作成()\n",
    "        self.__出資の履行()\n",
    "        self.__機関の設置()\n",
    "        return 株式会社(self._出資者,\n",
    "                    払込金保管証明=True,\n",
    "                    創立総会=True,\n",
    "                    設立登記=self._設立登記\n",
    "                    )\n",
    "\n",
    "    def __定款の作成(self):\n",
    "        print('公証人による定款認証')\n",
    "\n",
    "    def __出資の履行(self):\n",
    "        self.__株主の募集()\n",
    "        print('出資の払込')\n",
    "        print('設立総会')\n",
    "\n",
    "    def __機関の設置(self):\n",
    "        print('取締役の選任')\n",
    "        print('検査役の調査等')\n",
    "        self.__設立登記()\n",
    "\n",
    "    def __株主の募集(self):\n",
    "        print('株主の募集')\n",
    "        self._出資者.append(有限責任社員(間接責任(), {'財産': 金銭(1), '信用': None, '労務': None}))\n",
    "\n",
    "    def __設立登記(self):\n",
    "        print('設立登記')\n",
    "        self._設立登記 = '創立総会の終結の日の翌日から2週間以内'\n",
    "\n",
    "\n",
    "class 会社設立テスト(unittest.TestCase):\n",
    "    def test_募集摂理では発起人が設立に発行するすべての株式を引き受けない(self):\n",
    "        _発起人 = 有限責任社員(間接責任(), {'財産': 金銭(1), '信用': None, '労務': None})\n",
    "        _株式会社 = 株式会社([_発起人])\n",
    "        _会社 = 募集設立(_株式会社).実施()\n",
    "        self.assertNotEquals(len(_会社.社員), 1)\n",
    "\n",
    "\n",
    "if __name__ == '__main__':\n",
    "    unittest.main(argv=['first-arg-is-ignored'], exit=False)\n"
   ]
  },
  {
   "cell_type": "markdown",
   "metadata": {},
   "source": [
    "## 発起設立と募集設立の違い\n",
    "\n",
    "### 払込金融機関の証明\n",
    "\n",
    "### 設立総会\n",
    "\n",
    "### 設立登記"
   ]
  },
  {
   "cell_type": "code",
   "execution_count": 5,
   "metadata": {},
   "outputs": [
    {
     "name": "stderr",
     "output_type": "stream",
     "text": [
      "../usr/local/lib/python3.7/site-packages/ipykernel_launcher.py:31: DeprecationWarning: Please use assertEqual instead.\n",
      "....chap1_1.ipynb:86: DeprecationWarning: Please use assertEqual instead.\n",
      "  \"無限責任社員 *- - 間接責任\\n\",\n",
      "............................................"
     ]
    },
    {
     "name": "stdout",
     "output_type": "stream",
     "text": [
      "公証人による定款認証\n",
      "株主の募集\n",
      "出資の払込\n",
      "設立総会\n",
      "取締役の選任\n",
      "検査役の調査等\n",
      "設立登記\n",
      "公証人による定款認証\n",
      "株主の募集\n",
      "出資の払込\n",
      "設立総会\n",
      "取締役の選任\n",
      "検査役の調査等\n",
      "設立登記\n",
      "公証人による定款認証\n",
      "株主の募集\n",
      "出資の払込\n",
      "設立総会\n",
      "取締役の選任\n",
      "検査役の調査等\n",
      "設立登記\n",
      "公証人による定款認証\n",
      "出資の払込\n",
      "取締役の選任\n",
      "検査役の調査等\n",
      "設立登記\n",
      "公証人による定款認証\n",
      "出資の払込\n",
      "取締役の選任\n",
      "検査役の調査等\n",
      "設立登記\n",
      "公証人による定款認証\n",
      "出資の払込\n",
      "取締役の選任\n",
      "検査役の調査等\n",
      "設立登記\n"
     ]
    },
    {
     "name": "stderr",
     "output_type": "stream",
     "text": [
      "\n",
      "----------------------------------------------------------------------\n",
      "Ran 50 tests in 0.041s\n",
      "\n",
      "OK\n"
     ]
    }
   ],
   "source": [
    "import unittest\n",
    "\n",
    "\n",
    "class 会社設立テスト(unittest.TestCase):\n",
    "    def setUp(self):\n",
    "        _発起人 = 有限責任社員(間接責任(), {'財産': 金銭(1), '信用': None, '労務': None})\n",
    "        self._株式会社 = 株式会社([_発起人])\n",
    "\n",
    "    def test_発起設立では払込保証証明は不要(self):\n",
    "        _会社 = 発起設立(self._株式会社).実施()\n",
    "        self.assertFalse(_会社.払込金保管証明)\n",
    "\n",
    "    def test_発起設立では創立総会は不要(self):\n",
    "        _会社 = 発起設立(self._株式会社).実施()\n",
    "        self.assertFalse(_会社.創立総会)\n",
    "\n",
    "    def test_発起設立の設立登記は一定の日から2週間以内に行わなければならない(self):\n",
    "        _会社 = 発起設立(self._株式会社).実施()\n",
    "        self.assertEquals(_会社.設立登記, '発起人が定めた日から2週間以内')\n",
    "\n",
    "    def test_募集設立では払込保証証明は必要(self):\n",
    "        _会社 = 募集設立(self._株式会社).実施()\n",
    "        self.assertTrue(_会社.払込金保管証明)\n",
    "\n",
    "    def test_募集設立では創立総会は必要(self):\n",
    "        _会社 = 募集設立(self._株式会社).実施()\n",
    "        self.assertTrue(_会社.創立総会)\n",
    "\n",
    "    def test_募集設立の設立登記は一定の日から2週間以内に行わなければならない(self):\n",
    "        _会社 = 募集設立(self._株式会社).実施()\n",
    "        self.assertEquals(_会社.設立登記, '創立総会の終結の日の翌日から2週間以内')\n",
    "        \n",
    "        \n",
    "if __name__ == '__main__':\n",
    "    unittest.main(argv=['first-arg-is-ignored'], exit=False)        "
   ]
  },
  {
   "cell_type": "markdown",
   "metadata": {},
   "source": [
    "## 設立登記事項"
   ]
  }
 ],
 "metadata": {
  "kernelspec": {
   "display_name": "Python 3",
   "language": "python",
   "name": "python3"
  },
  "language_info": {
   "codemirror_mode": {
    "name": "ipython",
    "version": 3
   },
   "file_extension": ".py",
   "mimetype": "text/x-python",
   "name": "python",
   "nbconvert_exporter": "python",
   "pygments_lexer": "ipython3",
   "version": "3.7.0"
  }
 },
 "nbformat": 4,
 "nbformat_minor": 1
}

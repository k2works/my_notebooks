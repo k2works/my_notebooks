{
 "cells": [
  {
   "cell_type": "code",
   "execution_count": 2,
   "metadata": {},
   "outputs": [
    {
     "name": "stdout",
     "output_type": "stream",
     "text": [
      "Requirement already satisfied: iplantuml in /usr/local/lib/python3.7/site-packages (0.1.1)\r\n",
      "Requirement already satisfied: plantweb in /usr/local/lib/python3.7/site-packages (from iplantuml) (1.1.0)\r\n",
      "Requirement already satisfied: requests in /usr/local/lib/python3.7/site-packages (from plantweb->iplantuml) (2.19.1)\r\n",
      "Requirement already satisfied: six in /usr/local/lib/python3.7/site-packages (from plantweb->iplantuml) (1.11.0)\r\n",
      "Requirement already satisfied: docutils in /usr/local/lib/python3.7/site-packages (from plantweb->iplantuml) (0.14)\r\n",
      "Requirement already satisfied: certifi>=2017.4.17 in /usr/local/lib/python3.7/site-packages (from requests->plantweb->iplantuml) (2018.8.13)\r\n",
      "Requirement already satisfied: idna<2.8,>=2.5 in /usr/local/lib/python3.7/site-packages (from requests->plantweb->iplantuml) (2.7)\r\n",
      "Requirement already satisfied: chardet<3.1.0,>=3.0.2 in /usr/local/lib/python3.7/site-packages (from requests->plantweb->iplantuml) (3.0.4)\r\n",
      "Requirement already satisfied: urllib3<1.24,>=1.21.1 in /usr/local/lib/python3.7/site-packages (from requests->plantweb->iplantuml) (1.23)\r\n"
     ]
    }
   ],
   "source": [
    "import sys\n",
    "!{sys.executable} -m pip install iplantuml\n",
    "import iplantuml"
   ]
  },
  {
   "cell_type": "code",
   "execution_count": 17,
   "metadata": {},
   "outputs": [],
   "source": [
    "import sys\n",
    "import notebookutil as nbu\n",
    "sys.meta_path.append(nbu.NotebookFinder())\n",
    "\n",
    "from 会社.会社 import 会社\n",
    "from 会社.会社 import 人的会社\n",
    "from 会社.持分会社 import 持分会社\n",
    "from 会社.合名会社 import 合名会社\n",
    "from 会社.合資会社 import 合資会社\n",
    "from 会社.合同会社 import 合同会社\n",
    "from 会社.会社 import 物的会社\n",
    "from 会社.株式会社 import 株式会社\n",
    "from 会社.株式会社 import 特例有限会社\n",
    "from 会社.有限責任事業組合 import 有限責任事業組合\n",
    "from 資本.資本 import 財産\n",
    "from 資本.資本 import 信用\n",
    "from 資本.資本 import 労務\n",
    "from 資本.資本 import 金銭\n",
    "from 資本.資本 import 不動産 \n",
    "from 社員.社員 import 無限責任社員\n",
    "from 社員.社員 import 有限責任社員\n",
    "from 社員.責任 import 直接責任\n",
    "from 社員.責任 import 間接責任\n",
    "from 権利.権利 import 業務執行権\n",
    "from 権利.権利 import 会社代表権\n",
    "from 登記.定款 import 定款\n",
    "from 登記.発起設立 import 発起設立\n",
    "from 登記.募集設立 import 募集設立"
   ]
  },
  {
   "cell_type": "markdown",
   "metadata": {
    "collapsed": true
   },
   "source": [
    "# 会社の設立"
   ]
  },
  {
   "cell_type": "markdown",
   "metadata": {},
   "source": [
    "## 会社の設立\n",
    "\n",
    "### 発起設立\n",
    "\n",
    "### 募集設立\n"
   ]
  },
  {
   "cell_type": "code",
   "execution_count": 22,
   "metadata": {},
   "outputs": [
    {
     "name": "stderr",
     "output_type": "stream",
     "text": [
      "/usr/local/lib/python3.7/site-packages/ipykernel_launcher.py:12: DeprecationWarning: Please use assertEqual instead.\n",
      "  if sys.path[0] == '':\n",
      "."
     ]
    },
    {
     "name": "stdout",
     "output_type": "stream",
     "text": [
      "公証人による定款認証\n",
      "出資の払込\n",
      "取締役の選任\n",
      "検査役の調査等\n",
      "設立登記\n"
     ]
    },
    {
     "name": "stderr",
     "output_type": "stream",
     "text": [
      "\n",
      "----------------------------------------------------------------------\n",
      "Ran 1 test in 0.001s\n",
      "\n",
      "OK\n"
     ]
    }
   ],
   "source": [
    "import unittest\n",
    "\n",
    "\n",
    "class 会社設立テスト(unittest.TestCase):\n",
    "    def setUp(self):\n",
    "        _発起人 = 有限責任社員(間接責任(), {'財産': 金銭(1), '信用': None, '労務': None})\n",
    "        _出資者 = 有限責任社員(間接責任(), {'財産': 金銭(1), '信用': None, '労務': None},発起人=False)\n",
    "        self._株式会社 = 株式会社([_発起人,_出資者])\n",
    "\n",
    "    def test_発起設立では発起人が設立時に発行するすべての株式を引き受ける(self):\n",
    "        _会社 = 発起設立(self._株式会社).実施()\n",
    "        self.assertEquals(len(_会社.社員), 1)\n",
    "\n",
    "\n",
    "if __name__ == '__main__':\n",
    "    unittest.main(argv=['first-arg-is-ignored'], exit=False)"
   ]
  },
  {
   "cell_type": "code",
   "execution_count": 23,
   "metadata": {},
   "outputs": [
    {
     "name": "stderr",
     "output_type": "stream",
     "text": [
      "/usr/local/lib/python3.7/site-packages/ipykernel_launcher.py:12: DeprecationWarning: Please use assertNotEqual instead.\n",
      "  if sys.path[0] == '':\n",
      "."
     ]
    },
    {
     "name": "stdout",
     "output_type": "stream",
     "text": [
      "公証人による定款認証\n",
      "株主の募集\n",
      "出資の払込\n",
      "設立総会\n",
      "取締役の選任\n",
      "検査役の調査等\n",
      "設立登記\n"
     ]
    },
    {
     "name": "stderr",
     "output_type": "stream",
     "text": [
      "\n",
      "----------------------------------------------------------------------\n",
      "Ran 1 test in 0.001s\n",
      "\n",
      "OK\n"
     ]
    }
   ],
   "source": [
    "import unittest\n",
    "\n",
    "\n",
    "class 会社設立テスト(unittest.TestCase):\n",
    "    def setUp(self):\n",
    "        _発起人 = 有限責任社員(間接責任(), {'財産': 金銭(1), '信用': None, '労務': None})\n",
    "        _出資者 = 有限責任社員(間接責任(), {'財産': 金銭(1), '信用': None, '労務': None},発起人=False)\n",
    "        self._株式会社 = 株式会社([_発起人,_出資者])\n",
    "\n",
    "    def test_募集設立では発起人が設立に発行するすべての株式を引き受けない(self):\n",
    "        _会社 = 募集設立(self._株式会社).実施()\n",
    "        self.assertNotEquals(len(_会社.社員), 1)\n",
    "\n",
    "if __name__ == '__main__':\n",
    "    unittest.main(argv=['first-arg-is-ignored'], exit=False)\n"
   ]
  },
  {
   "cell_type": "markdown",
   "metadata": {},
   "source": [
    "## 発起設立と募集設立の違い\n",
    "\n",
    "### 払込金融機関の証明\n",
    "\n",
    "### 設立総会\n",
    "\n",
    "### 設立登記"
   ]
  },
  {
   "cell_type": "code",
   "execution_count": 29,
   "metadata": {},
   "outputs": [
    {
     "name": "stderr",
     "output_type": "stream",
     "text": [
      "./usr/local/lib/python3.7/site-packages/ipykernel_launcher.py:21: DeprecationWarning: Please use assertEqual instead.\n",
      "...."
     ]
    },
    {
     "name": "stdout",
     "output_type": "stream",
     "text": [
      "公証人による定款認証\n",
      "出資の払込\n",
      "取締役の選任\n",
      "検査役の調査等\n",
      "設立登記\n",
      "公証人による定款認証\n",
      "出資の払込\n",
      "取締役の選任\n",
      "検査役の調査等\n",
      "設立登記\n",
      "公証人による定款認証\n",
      "出資の払込\n",
      "取締役の選任\n",
      "検査役の調査等\n",
      "設立登記\n",
      "公証人による定款認証\n",
      "出資の払込\n",
      "取締役の選任\n",
      "検査役の調査等\n",
      "設立登記\n",
      "公証人による定款認証\n",
      "出資の払込\n",
      "取締役の選任\n",
      "検査役の調査等\n",
      "設立登記\n",
      "公証人による定款認証\n",
      "出資の払込\n",
      "取締役の選任\n",
      "検査役の調査等\n",
      "設立登記\n"
     ]
    },
    {
     "name": "stderr",
     "output_type": "stream",
     "text": [
      "\n",
      "----------------------------------------------------------------------\n",
      "Ran 5 tests in 0.004s\n",
      "\n",
      "OK\n"
     ]
    }
   ],
   "source": [
    "import unittest\n",
    "\n",
    "\n",
    "class 会社設立テスト(unittest.TestCase):\n",
    "    def setUp(self):\n",
    "        _発起人 = 有限責任社員(間接責任(), {'財産': 金銭(1), '信用': None, '労務': None})\n",
    "        _出資者 = 有限責任社員(間接責任(), {'財産': 金銭(1), '信用': None, '労務': None},発起人=False)\n",
    "        self._株式会社 = 株式会社([_発起人,_出資者])\n",
    "        self._会社 = 発起設立(self._株式会社).実施()\n",
    "\n",
    "    def test_発起設立では払込保証証明は不要(self):\n",
    "        self.assertFalse(self._会社.払込金保管証明)\n",
    "\n",
    "    def test_発起設立では創立総会は不要(self):\n",
    "        self.assertFalse(self._会社.創立総会)\n",
    "\n",
    "    def test_発起設立の設立登記は一定の日から2週間以内に行わなければならない(self):\n",
    "        self.assertEquals(self._会社.設立登記, '発起人が定めた日から2週間以内')\n",
    "\n",
    "    def test_発起設立では定款が作成される(self):\n",
    "        self.assertEquals(type(self._会社.定款), 定款)\n",
    "\n",
    "    def test_発起設立では現物出資ができる(self):\n",
    "        _発起人1 = 有限責任社員(間接責任(), {'財産': 金銭(1_000_000), '信用': None, '労務': None})\n",
    "        _発起人2 = 有限責任社員(間接責任(), {'財産': [金銭(5_000_000), 不動産(金銭(5_000_000))], '信用': None, '労務': None})\n",
    "        _株式会社 = 株式会社([_発起人1, _発起人2])\n",
    "        _会社 = 発起設立(_株式会社).実施()\n",
    "        self.assertEquals(_会社.資本[0], 金銭(1_000_000))\n",
    "        self.assertEquals(_会社.資本[1], 金銭(5_000_000))\n",
    "        self.assertEquals(_会社.資本[2], 不動産(金銭(5_000_000)))\n",
    "        self.assertEquals(_会社._資本金, 金銭(11_000_000))\n",
    "        \n",
    "\n",
    "if __name__ == '__main__':\n",
    "    unittest.main(argv=['first-arg-is-ignored'], exit=False)"
   ]
  },
  {
   "cell_type": "code",
   "execution_count": 31,
   "metadata": {},
   "outputs": [
    {
     "name": "stderr",
     "output_type": "stream",
     "text": [
      "./usr/local/lib/python3.7/site-packages/ipykernel_launcher.py:21: DeprecationWarning: Please use assertEqual instead.\n",
      "...."
     ]
    },
    {
     "name": "stdout",
     "output_type": "stream",
     "text": [
      "公証人による定款認証\n",
      "株主の募集\n",
      "出資の払込\n",
      "設立総会\n",
      "取締役の選任\n",
      "検査役の調査等\n",
      "設立登記\n",
      "公証人による定款認証\n",
      "株主の募集\n",
      "出資の払込\n",
      "設立総会\n",
      "取締役の選任\n",
      "検査役の調査等\n",
      "設立登記\n",
      "公証人による定款認証\n",
      "株主の募集\n",
      "出資の払込\n",
      "設立総会\n",
      "取締役の選任\n",
      "検査役の調査等\n",
      "設立登記\n",
      "公証人による定款認証\n",
      "株主の募集\n",
      "出資の払込\n",
      "設立総会\n",
      "取締役の選任\n",
      "検査役の調査等\n",
      "設立登記\n",
      "公証人による定款認証\n",
      "株主の募集\n",
      "出資の払込\n",
      "設立総会\n",
      "取締役の選任\n",
      "検査役の調査等\n",
      "設立登記\n"
     ]
    },
    {
     "name": "stderr",
     "output_type": "stream",
     "text": [
      "\n",
      "----------------------------------------------------------------------\n",
      "Ran 5 tests in 0.005s\n",
      "\n",
      "OK\n"
     ]
    }
   ],
   "source": [
    "import unittest\n",
    "\n",
    "\n",
    "class 会社設立テスト(unittest.TestCase):\n",
    "    def setUp(self):\n",
    "        _発起人 = 有限責任社員(間接責任(), {'財産': 金銭(1), '信用': None, '労務': None})\n",
    "        _出資者 = 有限責任社員(間接責任(), {'財産': 金銭(1), '信用': None, '労務': None},発起人=False)\n",
    "        self._株式会社 = 株式会社([_発起人,_出資者])\n",
    "        self._会社 = 募集設立(self._株式会社).実施()\n",
    "\n",
    "    def test_募集設立では払込保証証明は必要(self):\n",
    "        self.assertTrue(self._会社.払込金保管証明)\n",
    "\n",
    "    def test_募集設立では創立総会は必要(self):\n",
    "        self.assertTrue(self._会社.創立総会)\n",
    "\n",
    "    def test_募集設立の設立登記は一定の日から2週間以内に行わなければならない(self):\n",
    "        self.assertEquals(self._会社.設立登記, '創立総会の終結の日の翌日から2週間以内')\n",
    "\n",
    "    def test_募集設立では定款が作成される(self):\n",
    "        self.assertEquals(type(self._会社.定款), 定款)\n",
    "\n",
    "    def test_募集設立では現物出資ができるのは発起人に限られる(self):\n",
    "        _発起人1 = 有限責任社員(間接責任(), {'財産': 金銭(1_000_000), '信用': None, '労務': None})\n",
    "        _発起人2 = 有限責任社員(間接責任(), {'財産': 金銭(5_000_000), '信用': None, '労務': None})\n",
    "        _出資者 = 有限責任社員(間接責任(), {'財産': [金銭(5_000_000), 不動産(金銭(5_000_000))], '信用': None, '労務': None}, 発起人=False)\n",
    "        with self.assertRaises(Exception) as cm:\n",
    "            _株式会社 = 株式会社([_発起人1, _発起人2, _出資者])\n",
    "            _会社 = 募集設立(_株式会社).実施()\n",
    "        self.assertEquals(cm.exception.args[0], '現物出資できるのは発起人に限られる')\n",
    "\n",
    "\n",
    "\n",
    "if __name__ == '__main__':\n",
    "    unittest.main(argv=['first-arg-is-ignored'], exit=False)"
   ]
  },
  {
   "cell_type": "markdown",
   "metadata": {},
   "source": [
    "## 設立登記事項"
   ]
  }
 ],
 "metadata": {
  "kernelspec": {
   "display_name": "Python 3",
   "language": "python",
   "name": "python3"
  },
  "language_info": {
   "codemirror_mode": {
    "name": "ipython",
    "version": 3
   },
   "file_extension": ".py",
   "mimetype": "text/x-python",
   "name": "python",
   "nbconvert_exporter": "python",
   "pygments_lexer": "ipython3",
   "version": "3.7.0"
  }
 },
 "nbformat": 4,
 "nbformat_minor": 1
}

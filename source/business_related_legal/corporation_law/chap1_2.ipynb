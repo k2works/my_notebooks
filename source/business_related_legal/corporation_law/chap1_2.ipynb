{
 "cells": [
  {
   "cell_type": "code",
   "execution_count": 5,
   "metadata": {},
   "outputs": [],
   "source": [
    "import sys\n",
    "import notebookutil as nbu\n",
    "sys.meta_path.append(nbu.NotebookFinder())\n",
    "from chap1_1 import *"
   ]
  },
  {
   "cell_type": "markdown",
   "metadata": {
    "collapsed": true
   },
   "source": [
    "# 会社の設立"
   ]
  },
  {
   "cell_type": "markdown",
   "metadata": {},
   "source": [
    "## 会社の設立\n",
    "\n",
    "### 発起設立\n",
    "\n",
    "### 募集設立\n"
   ]
  },
  {
   "cell_type": "code",
   "execution_count": 3,
   "metadata": {},
   "outputs": [
    {
     "name": "stderr",
     "output_type": "stream",
     "text": [
      "/usr/local/lib/python3.7/site-packages/ipykernel_launcher.py:51: DeprecationWarning: Please use assertEqual instead.\n",
      ".chap1_1.ipynb:86: DeprecationWarning: Please use assertEqual instead.\n",
      "  \"無限責任社員 *- - 間接責任\\n\",\n",
      "............................................"
     ]
    },
    {
     "name": "stdout",
     "output_type": "stream",
     "text": [
      "公証人による定款認証\n",
      "出資の払込\n",
      "取締役の選任\n",
      "検査役の調査等\n",
      "設立登記\n"
     ]
    },
    {
     "name": "stderr",
     "output_type": "stream",
     "text": [
      "\n",
      "----------------------------------------------------------------------\n",
      "Ran 45 tests in 0.038s\n",
      "\n",
      "OK\n"
     ]
    }
   ],
   "source": [
    "import unittest\n",
    "from abc import ABC\n",
    "from abc import abstractmethod\n",
    "\n",
    "\n",
    "class 会社設立(ABC):\n",
    "    def __init__(self, 会社):\n",
    "        self._会社 = 会社\n",
    "        self._出資者 = []\n",
    "        for 出資者 in self._会社.社員:\n",
    "            self._出資者.append(出資者)\n",
    "\n",
    "    @abstractmethod\n",
    "    def 実施(self):\n",
    "        pass\n",
    "\n",
    "    def __定款の作成(self):\n",
    "        pass\n",
    "\n",
    "    def __出資の履行(self):\n",
    "        pass\n",
    "\n",
    "    def __機関の設置(self):\n",
    "        pass\n",
    "\n",
    "\n",
    "class 発起設立(会社設立):\n",
    "    def 実施(self):\n",
    "        self.__定款の作成()\n",
    "        self.__出資の履行()\n",
    "        self.__機関の設置()\n",
    "        return 株式会社(self._出資者)\n",
    "\n",
    "    def __定款の作成(self):\n",
    "        print('公証人による定款認証')\n",
    "\n",
    "    def __出資の履行(self):\n",
    "        print('出資の払込')\n",
    "\n",
    "    def __機関の設置(self):\n",
    "        print('取締役の選任')\n",
    "        print('検査役の調査等')\n",
    "        print('設立登記')\n",
    "\n",
    "\n",
    "class 会社設立テスト(unittest.TestCase):\n",
    "    def test_発起設立では発起人が設立時に発行するすべての株式を引き受ける(self):\n",
    "        _発起人 = 有限責任社員(間接責任(), {'財産': 金銭(1), '信用': None, '労務': None})\n",
    "        _株式会社 = 株式会社([_発起人])\n",
    "        _会社 = 発起設立(_株式会社).実施()\n",
    "        self.assertEquals(len(_会社.社員), 1)\n",
    "\n",
    "\n",
    "if __name__ == '__main__':\n",
    "    unittest.main(argv=['first-arg-is-ignored'], exit=False)"
   ]
  },
  {
   "cell_type": "code",
   "execution_count": 4,
   "metadata": {},
   "outputs": [
    {
     "name": "stderr",
     "output_type": "stream",
     "text": [
      "/usr/local/lib/python3.7/site-packages/ipykernel_launcher.py:31: DeprecationWarning: Please use assertNotEqual instead.\n",
      ".chap1_1.ipynb:86: DeprecationWarning: Please use assertEqual instead.\n",
      "  \"無限責任社員 *- - 間接責任\\n\",\n",
      "............................................"
     ]
    },
    {
     "name": "stdout",
     "output_type": "stream",
     "text": [
      "公証人による定款認証\n",
      "株主の募集\n",
      "出資の払込\n",
      "設立総会\n",
      "取締役の選任\n",
      "検査役の調査等\n",
      "設立登記\n"
     ]
    },
    {
     "name": "stderr",
     "output_type": "stream",
     "text": [
      "\n",
      "----------------------------------------------------------------------\n",
      "Ran 45 tests in 0.044s\n",
      "\n",
      "OK\n"
     ]
    }
   ],
   "source": [
    "class 募集設立(会社設立):\n",
    "    def 実施(self):\n",
    "        self.__定款の作成()\n",
    "        self.__出資の履行()\n",
    "        self.__機関の設置()\n",
    "        return 株式会社(self._出資者)\n",
    "\n",
    "    def __定款の作成(self):\n",
    "        print('公証人による定款認証')\n",
    "\n",
    "    def __出資の履行(self):\n",
    "        self.__株主の募集()\n",
    "        print('出資の払込')\n",
    "        print('設立総会')\n",
    "\n",
    "    def __機関の設置(self):\n",
    "        print('取締役の選任')\n",
    "        print('検査役の調査等')\n",
    "        print('設立登記')\n",
    "\n",
    "    def __株主の募集(self):\n",
    "        print('株主の募集')\n",
    "        self._出資者.append(有限責任社員(間接責任(), {'財産': 金銭(1), '信用': None, '労務': None}))\n",
    "\n",
    "\n",
    "class 会社設立テスト(unittest.TestCase):\n",
    "    def test_募集摂理では発起人が設立に発行するすべての株式を引き受けない(self):\n",
    "        _発起人 = 有限責任社員(間接責任(), {'財産': 金銭(1), '信用': None, '労務': None})\n",
    "        _株式会社 = 株式会社([_発起人])\n",
    "        _会社 = 募集設立(_株式会社).実施()\n",
    "        self.assertNotEquals(len(_会社.社員), 1)\n",
    "\n",
    "\n",
    "if __name__ == '__main__':\n",
    "    unittest.main(argv=['first-arg-is-ignored'], exit=False)\n"
   ]
  },
  {
   "cell_type": "markdown",
   "metadata": {},
   "source": [
    "## 発起設立と募集設立の違い\n",
    "\n",
    "### 払込金融機関の証明\n",
    "\n",
    "### 設立総会\n",
    "\n",
    "### 設立登記"
   ]
  },
  {
   "cell_type": "markdown",
   "metadata": {},
   "source": [
    "## 設立登記事項"
   ]
  }
 ],
 "metadata": {
  "kernelspec": {
   "display_name": "Python 3",
   "language": "python",
   "name": "python3"
  },
  "language_info": {
   "codemirror_mode": {
    "name": "ipython",
    "version": 3
   },
   "file_extension": ".py",
   "mimetype": "text/x-python",
   "name": "python",
   "nbconvert_exporter": "python",
   "pygments_lexer": "ipython3",
   "version": "3.7.0"
  }
 },
 "nbformat": 4,
 "nbformat_minor": 1
}

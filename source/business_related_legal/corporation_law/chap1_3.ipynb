{
 "cells": [
  {
   "cell_type": "code",
   "execution_count": 4,
   "metadata": {},
   "outputs": [
    {
     "name": "stdout",
     "output_type": "stream",
     "text": [
      "Requirement already satisfied: iplantuml in /usr/local/lib/python3.7/site-packages (0.1.1)\r\nRequirement already satisfied: plantweb in /usr/local/lib/python3.7/site-packages (from iplantuml) (1.1.0)\r\nRequirement already satisfied: requests in /usr/local/lib/python3.7/site-packages (from plantweb->iplantuml) (2.19.1)\r\nRequirement already satisfied: docutils in /usr/local/lib/python3.7/site-packages (from plantweb->iplantuml) (0.14)\r\nRequirement already satisfied: six in /usr/local/lib/python3.7/site-packages (from plantweb->iplantuml) (1.11.0)\r\nRequirement already satisfied: chardet<3.1.0,>=3.0.2 in /usr/local/lib/python3.7/site-packages (from requests->plantweb->iplantuml) (3.0.4)\r\nRequirement already satisfied: idna<2.8,>=2.5 in /usr/local/lib/python3.7/site-packages (from requests->plantweb->iplantuml) (2.7)\r\nRequirement already satisfied: certifi>=2017.4.17 in /usr/local/lib/python3.7/site-packages (from requests->plantweb->iplantuml) (2018.8.13)\r\nRequirement already satisfied: urllib3<1.24,>=1.21.1 in /usr/local/lib/python3.7/site-packages (from requests->plantweb->iplantuml) (1.23)\r\n"
     ]
    }
   ],
   "source": [
    "import sys\n",
    "!{sys.executable} -m pip install iplantuml\n",
    "import iplantuml\n",
    "\n"
   ]
  },
  {
   "cell_type": "code",
   "execution_count": 5,
   "metadata": {},
   "outputs": [
    {
     "ename": "ModuleNotFoundError",
     "evalue": "No module named 'notebookutil'",
     "traceback": [
      "\u001b[0;31m---------------------------------------------------------------------------\u001b[0m",
      "\u001b[0;31mModuleNotFoundError\u001b[0m                       Traceback (most recent call last)",
      "\u001b[0;32m<ipython-input-5-56b68567612e>\u001b[0m in \u001b[0;36m<module>\u001b[0;34m()\u001b[0m\n\u001b[1;32m      1\u001b[0m \u001b[0;32mimport\u001b[0m \u001b[0msys\u001b[0m\u001b[0;34m\u001b[0m\u001b[0m\n\u001b[0;32m----> 2\u001b[0;31m \u001b[0;32mimport\u001b[0m \u001b[0mnotebookutil\u001b[0m \u001b[0;32mas\u001b[0m \u001b[0mnbu\u001b[0m\u001b[0;34m\u001b[0m\u001b[0m\n\u001b[0m\u001b[1;32m      3\u001b[0m \u001b[0msys\u001b[0m\u001b[0;34m.\u001b[0m\u001b[0mmeta_path\u001b[0m\u001b[0;34m.\u001b[0m\u001b[0mappend\u001b[0m\u001b[0;34m(\u001b[0m\u001b[0mnbu\u001b[0m\u001b[0;34m.\u001b[0m\u001b[0mNotebookFinder\u001b[0m\u001b[0;34m(\u001b[0m\u001b[0;34m)\u001b[0m\u001b[0;34m)\u001b[0m\u001b[0;34m\u001b[0m\u001b[0m\n\u001b[1;32m      4\u001b[0m \u001b[0;34m\u001b[0m\u001b[0m\n\u001b[1;32m      5\u001b[0m \u001b[0;32mfrom\u001b[0m \u001b[0m会社\u001b[0m\u001b[0;34m.\u001b[0m\u001b[0m会社\u001b[0m \u001b[0;32mimport\u001b[0m \u001b[0m会社\u001b[0m\u001b[0;34m\u001b[0m\u001b[0m\n",
      "\u001b[0;31mModuleNotFoundError\u001b[0m: No module named 'notebookutil'"
     ],
     "output_type": "error"
    }
   ],
   "source": [
    "import sys\n",
    "import notebookutil as nbu\n",
    "sys.meta_path.append(nbu.NotebookFinder())\n",
    "\n",
    "from 会社.会社 import 会社\n",
    "from 会社.会社 import 人的会社\n",
    "from 会社.持分会社 import 持分会社\n",
    "from 会社.合名会社 import 合名会社\n",
    "from 会社.合資会社 import 合資会社\n",
    "from 会社.合同会社 import 合同会社\n",
    "from 会社.会社 import 物的会社\n",
    "from 会社.株式会社 import 株式会社\n",
    "from 会社.株式会社 import 特例有限会社\n",
    "from 会社.有限責任事業組合 import 有限責任事業組合\n",
    "from 資本.資本 import 財産\n",
    "from 資本.資本 import 信用\n",
    "from 資本.資本 import 労務\n",
    "from 資本.資本 import 金銭\n",
    "from 資本.資本 import 不動産 \n",
    "from 社員.社員 import 無限責任社員\n",
    "from 社員.社員 import 有限責任社員\n",
    "from 社員.責任 import 直接責任\n",
    "from 社員.責任 import 間接責任\n",
    "from 権利.権利 import 業務執行権\n",
    "from 権利.権利 import 会社代表権\n",
    "from 登記.定款 import 定款\n",
    "from 登記.発起設立 import 発起設立\n",
    "from 登記.募集設立 import 募集設立\n",
    "from 登記.定款 import 絶対的記載事項\n",
    "from 登記.定款 import 相対的記載事項, 変態設立事項\n",
    "from 登記.定款 import 任意的記載事項"
   ]
  },
  {
   "cell_type": "markdown",
   "metadata": {},
   "source": [
    "# 定款記載事項"
   ]
  },
  {
   "cell_type": "markdown",
   "metadata": {},
   "source": [
    "## 定款の記載事項\n",
    "\n",
    "### 絶対的記載事項\n",
    "\n",
    "\n",
    "1. 会社の目的:会社の事業目的を記載する。 \n",
    "1.  商号:会社が自己を表すために用いる名称。\n",
    "1.  本店の所在地 :最小行政区画（市町村／東京特別区）により記載することが可能。\n",
    "1.  設立に際して出資される財産の価値またはその最低額:これに記載された額以上の財産が現実に出資されなければならない。\n",
    "1.  発起人の氏名または名称及び住所:これに記載したものが発起人となる                         \n",
    "1. 発行可能株式総数:株主総会の決議によらず、取締役会の決議だけで発行することができる株式数で、この上限の範囲内であれば、取締役会で自由に株式を発行できる（取締役会設置会社の場合）\n",
    "\n",
    "### 変態設立事項（相対的記載事項の代表格）\n",
    "\n",
    "1. 現物出資:金銭以外の財産をもってする出資。設立時においては発起人のみがなしうる。\n",
    "1. 財産引受け:会社のために会社の成立を条件として特定の財産を譲り受けることを約する契約。開業準備行為の１つ。発起人以外もできる。\n",
    "1. 発起人の報酬その他の特別の利益:設立中の会社の機関として行った労務に対する報酬その他の利益。\n",
    "1. 設立費用:会社設立に必要な取引行為から生じる費用のうち、会社が負担すべきもの。\n"
   ]
  },
  {
   "cell_type": "code",
   "execution_count": 6,
   "metadata": {},
   "outputs": [
    {
     "name": "stderr",
     "output_type": "stream",
     "text": [
      "E"
     ]
    },
    {
     "name": "stderr",
     "output_type": "stream",
     "text": [
      "E"
     ]
    },
    {
     "name": "stderr",
     "output_type": "stream",
     "text": [
      "E"
     ]
    },
    {
     "name": "stderr",
     "output_type": "stream",
     "text": [
      "E"
     ]
    },
    {
     "name": "stderr",
     "output_type": "stream",
     "text": [
      "E"
     ]
    },
    {
     "name": "stderr",
     "output_type": "stream",
     "text": [
      "E"
     ]
    },
    {
     "name": "stderr",
     "output_type": "stream",
     "text": [
      "E"
     ]
    },
    {
     "name": "stderr",
     "output_type": "stream",
     "text": [
      "E"
     ]
    },
    {
     "name": "stderr",
     "output_type": "stream",
     "text": [
      "E"
     ]
    },
    {
     "name": "stderr",
     "output_type": "stream",
     "text": [
      "E"
     ]
    },
    {
     "name": "stderr",
     "output_type": "stream",
     "text": [
      "E"
     ]
    },
    {
     "name": "stderr",
     "output_type": "stream",
     "text": [
      "E"
     ]
    },
    {
     "name": "stderr",
     "output_type": "stream",
     "text": [
      "E"
     ]
    }
   ],
   "source": [
    "import unittest\n",
    "\n",
    "\n",
    "class 定款テスト(unittest.TestCase):\n",
    "    def setUp(self):\n",
    "        self._定款 = 定款()\n",
    "\n",
    "    def test_定款は絶対的記載事項を持つ(self):\n",
    "        self.assertEqual(type(self._定款.絶対的記載事項), 絶対的記載事項)\n",
    "\n",
    "    def test_定款の絶対的記載事項には会社の目的がある(self):\n",
    "        self.assertEqual(self._定款.絶対的記載事項.会社の目的, '会社の事業目的を記載する')\n",
    "\n",
    "    def test_定款の絶対的記載事項には商号がある(self):\n",
    "        self.assertEqual(self._定款.絶対的記載事項.商号, '会社が自己を表すために用いる名称')\n",
    "\n",
    "    def test_定款の絶対的記載事項には本店の所在地がある(self):\n",
    "        self.assertEqual(self._定款.絶対的記載事項.本店の所在地, '最小行政区画（市町村／東京特別区）により記載')\n",
    "\n",
    "    def test_定款の絶対的記載事項には設立に際して出資される財産の価格またはその最低額がある(self):\n",
    "        self.assertEqual(self._定款.絶対的記載事項.設立に際して出資される財産の価格またはその最低額, 'これに記載された額以上の財産が現実に出資されなければならない')\n",
    "\n",
    "    def test_定款の絶対的記載事項には発起人の氏名または名称および住所がある(self):\n",
    "        self.assertEqual(self._定款.絶対的記載事項.発起人の氏名または名称および住所, 'これに記載されたものが発起人となる')\n",
    "\n",
    "    def test_定款の絶対的記載事項には発行可能株式総数がある(self):\n",
    "        self.assertEqual(self._定款.絶対的記載事項.発行可能株式総数, '株主総会の決議によらず、取締役会の決議だけで発行することが株式数で、この上限の範囲内であれば、取締役会で自由に株式を発行できる')\n",
    "\n",
    "    def test_定款は相対的記載事項を持つ(self):\n",
    "        self.assertEqual(type(self._定款.相対的記載事項), 相対的記載事項)\n",
    "\n",
    "    def test_定款の相対的記載事項には変態設立事項がある(self):\n",
    "        self.assertEqual(type(self._定款.相対的記載事項.変態設立事項), 変態設立事項)\n",
    "\n",
    "    def test_変態設立事項には現物出資がある(self):\n",
    "        self.assertEqual(self._定款.相対的記載事項.変態設立事項.現物出資, '金銭以外の財産をもってする出資')\n",
    "\n",
    "    def test_変態設立事項には財産引受けがある(self):\n",
    "        self.assertEqual(self._定款.相対的記載事項.変態設立事項.財産引受け, '会社のために会社の成立を条件として特定の財産を譲り受けることを約する契約')\n",
    "\n",
    "    def test_変態設立事項には発起人の報酬その他の特別の利益がある(self):\n",
    "        self.assertEqual(self._定款.相対的記載事項.変態設立事項.発起人の報酬その他の特別の利益, '設立中の会社の機関として行った労務に対する報酬その他の利益')\n",
    "\n",
    "    def test_変態設立事項には発起人の設立費用がある(self):\n",
    "        self.assertEqual(self._定款.相対的記載事項.変態設立事項.設立費用, '会社設立に必要な取引行為から生じる費用のうち、会社が負担すべきもの')\n",
    "\n",
    "    def test_定款は任意的記載事項を持つ(self):\n",
    "        self.assertEqual(type(self._定款.任意的記載事項), 任意的記載事項)\n",
    "        \n",
    "\n",
    "if __name__ == '__main__':\n",
    "    unittest.main(argv=['first-arg-is-ignored'], exit=False)\n",
    "        "
   ]
  },
  {
   "cell_type": "markdown",
   "metadata": {},
   "source": [
    "### 現物出資"
   ]
  },
  {
   "cell_type": "code",
   "execution_count": 13,
   "metadata": {},
   "outputs": [
    {
     "name": "stderr",
     "output_type": "stream",
     "text": [
      ".\n",
      "----------------------------------------------------------------------\n",
      "Ran 1 test in 0.001s\n",
      "\n",
      "OK\n"
     ]
    }
   ],
   "source": [
    "import unittest\n",
    "\n",
    "\n",
    "class 定款テスト(unittest.TestCase):\n",
    "    def setUp(self):\n",
    "        self._定款 = 定款()\n",
    "\n",
    "\n",
    "    def test_変態設立事項には現物出資がある(self):\n",
    "        self.assertEqual(self._定款.相対的記載事項.変態設立事項.現物出資, '金銭以外の財産をもってする出資')\n",
    "        \n",
    "\n",
    "if __name__ == '__main__':\n",
    "    unittest.main(argv=['first-arg-is-ignored'], exit=False)\n",
    "        "
   ]
  },
  {
   "cell_type": "markdown",
   "metadata": {},
   "source": [
    "### 財産引受け"
   ]
  },
  {
   "cell_type": "code",
   "execution_count": 14,
   "metadata": {},
   "outputs": [
    {
     "name": "stderr",
     "output_type": "stream",
     "text": [
      ".\n",
      "----------------------------------------------------------------------\n",
      "Ran 1 test in 0.001s\n",
      "\n",
      "OK\n"
     ]
    }
   ],
   "source": [
    "import unittest\n",
    "\n",
    "\n",
    "class 定款テスト(unittest.TestCase):\n",
    "    def setUp(self):\n",
    "        self._定款 = 定款()\n",
    "\n",
    "    def test_変態設立事項には財産引受けがある(self):\n",
    "        self.assertEqual(self._定款.相対的記載事項.変態設立事項.財産引受け, '会社のために会社の成立を条件として特定の財産を譲り受けることを約する契約')\n",
    "        \n",
    "\n",
    "if __name__ == '__main__':\n",
    "    unittest.main(argv=['first-arg-is-ignored'], exit=False)\n",
    "        "
   ]
  },
  {
   "cell_type": "markdown",
   "metadata": {},
   "source": [
    "### 検査役の調査を要しない場合"
   ]
  },
  {
   "cell_type": "markdown",
   "metadata": {},
   "source": [
    "## 事後設立の手続きと変態設立事項との比較"
   ]
  }
 ],
 "metadata": {
  "kernelspec": {
   "display_name": "Python 3",
   "language": "python",
   "name": "python3"
  },
  "language_info": {
   "codemirror_mode": {
    "name": "ipython",
    "version": 3
   },
   "file_extension": ".py",
   "mimetype": "text/x-python",
   "name": "python",
   "nbconvert_exporter": "python",
   "pygments_lexer": "ipython3",
   "version": "3.7.0"
  }
 },
 "nbformat": 4,
 "nbformat_minor": 1
}

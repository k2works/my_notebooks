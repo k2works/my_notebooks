{
 "cells": [
  {
   "cell_type": "code",
   "execution_count": 1,
   "metadata": {
    "collapsed": true
   },
   "outputs": [
    {
     "ename": "ModuleNotFoundError",
     "evalue": "No module named 'notebookutil'",
     "traceback": [
      "\u001b[0;31m---------------------------------------------------------------------------\u001b[0m",
      "\u001b[0;31mModuleNotFoundError\u001b[0m                       Traceback (most recent call last)",
      "\u001b[0;32m<ipython-input-1-7b9e520a5f9a>\u001b[0m in \u001b[0;36m<module>\u001b[0;34m()\u001b[0m\n\u001b[1;32m      1\u001b[0m \u001b[0;32mimport\u001b[0m \u001b[0msys\u001b[0m\u001b[0;34m\u001b[0m\u001b[0m\n\u001b[0;32m----> 2\u001b[0;31m \u001b[0;32mimport\u001b[0m \u001b[0mnotebookutil\u001b[0m \u001b[0;32mas\u001b[0m \u001b[0mnbu\u001b[0m\u001b[0;34m\u001b[0m\u001b[0m\n\u001b[0m\u001b[1;32m      3\u001b[0m \u001b[0msys\u001b[0m\u001b[0;34m.\u001b[0m\u001b[0mmeta_path\u001b[0m\u001b[0;34m.\u001b[0m\u001b[0mappend\u001b[0m\u001b[0;34m(\u001b[0m\u001b[0mnbu\u001b[0m\u001b[0;34m.\u001b[0m\u001b[0mNotebookFinder\u001b[0m\u001b[0;34m(\u001b[0m\u001b[0;34m)\u001b[0m\u001b[0;34m)\u001b[0m\u001b[0;34m\u001b[0m\u001b[0m\n\u001b[1;32m      4\u001b[0m \u001b[0;32mfrom\u001b[0m \u001b[0mcorporation_law\u001b[0m \u001b[0;32mimport\u001b[0m \u001b[0;34m*\u001b[0m\u001b[0;34m\u001b[0m\u001b[0m\n\u001b[1;32m      5\u001b[0m \u001b[0;32mfrom\u001b[0m \u001b[0mchap1_1\u001b[0m \u001b[0;32mimport\u001b[0m \u001b[0;34m*\u001b[0m\u001b[0;34m\u001b[0m\u001b[0m\n",
      "\u001b[0;31mModuleNotFoundError\u001b[0m: No module named 'notebookutil'"
     ],
     "output_type": "error"
    }
   ],
   "source": [
    "import sys\n",
    "import notebookutil as nbu\n",
    "sys.meta_path.append(nbu.NotebookFinder())\n",
    "from ..corporation_law import *\n",
    "from chap1_1 import *\n",
    "from chap1_2 import *\n",
    " \n",
    "\n"
   ]
  },
  {
   "cell_type": "markdown",
   "metadata": {},
   "source": [
    "# 定款記載事項"
   ]
  },
  {
   "cell_type": "markdown",
   "metadata": {},
   "source": [
    "## 定款の記載事項\n",
    "\n",
    "### 絶対的記載事項\n",
    "\n",
    "\n",
    "1. 会社の目的:会社の事業目的を記載する。 \n",
    "1.  商号:会社が自己を表すために用いる名称。\n",
    "1.  本店の所在地 :最小行政区画（市町村／東京特別区）により記載することが可能。\n",
    "1.  設立に際して出資される財産の価値またはその最低額:これに記載された額以上の財産が現実に出資されなければならない。\n",
    "1.  発起人の氏名または名称及び住所:これに記載したものが発起人となる                         \n",
    "1. 発行可能株式総数:株主総会の決議によらず、取締役会の決議だけで発行することができる株式数で、この上限の範囲内であれば、取締役会で自由に株式を発行できる（取締役会設置会社の場合）\n",
    "\n",
    "### 変態設立事項（相対的記載事項の代表格）\n",
    "\n",
    "1. 現物出資:金銭以外の財産をもってする出資。設立時においては発起人のみがなしうる。\n",
    "1. 財産引受け:会社のために会社の成立を条件として特定の財産を譲り受けることを約する契約。開業準備行為の１つ。発起人以外もできる。\n",
    "1. 発起人の報酬その他の特別の利益:設立中の会社の機関として行った労務に対する報酬その他の利益。\n",
    "1. 設立費用:会社設立に必要な取引行為から生じる費用のうち、会社が負担すべきもの。\n"
   ]
  },
  {
   "cell_type": "markdown",
   "metadata": {},
   "source": [
    "### 現物出資"
   ]
  },
  {
   "cell_type": "markdown",
   "metadata": {},
   "source": [
    "### 財産引受け"
   ]
  },
  {
   "cell_type": "markdown",
   "metadata": {},
   "source": [
    "### 検査薬の調査を要しない場合"
   ]
  },
  {
   "cell_type": "markdown",
   "metadata": {},
   "source": [
    "## 事後設立の手続きと変態設立事項との比較"
   ]
  }
 ],
 "metadata": {
  "kernelspec": {
   "display_name": "Python 3",
   "language": "python",
   "name": "python3"
  },
  "language_info": {
   "codemirror_mode": {
    "name": "ipython",
    "version": 3
   },
   "file_extension": ".py",
   "mimetype": "text/x-python",
   "name": "python",
   "nbconvert_exporter": "python",
   "pygments_lexer": "ipython3",
   "version": "3.7.0"
  }
 },
 "nbformat": 4,
 "nbformat_minor": 1
}

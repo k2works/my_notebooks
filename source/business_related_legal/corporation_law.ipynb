{
 "cells": [
  {
   "cell_type": "markdown",
   "metadata": {
    "collapsed": true
   },
   "source": [
    "# 会社法"
   ]
  },
  {
   "cell_type": "markdown",
   "metadata": {},
   "source": [
    "## 会社の種類\n",
    "### 会社の種類\n",
    "\n",
    "+ 会社\n",
    "     + 持分会社\n",
    "\n",
    "          + 合同会社 (直接)無限責任社員のみ\n",
    "          + 合資会社 (直接)有限責任社員のみ & (直接)無限責任社員のみ\n",
    "          + 合同会社 (間接)有限責任社員のみ\n",
    "\n",
    "     + 株式会社\n",
    "\n",
    "          + 株式会社 (間接)有限責任社員のみ\n",
    "          + 特例有限会社 H18有限会社法廃止\n"
   ]
  },
  {
   "cell_type": "code",
   "execution_count": 19,
   "metadata": {},
   "outputs": [],
   "source": [
    "import iplantuml"
   ]
  },
  {
   "cell_type": "code",
   "execution_count": 31,
   "metadata": {},
   "outputs": [
    {
     "data": {
      "image/svg+xml": [
       "<svg contentScriptType=\"application/ecmascript\" contentStyleType=\"text/css\" height=\"499px\" preserveAspectRatio=\"none\" style=\"width:628px;height:499px;\" version=\"1.1\" viewBox=\"0 0 628 499\" width=\"628px\" xmlns=\"http://www.w3.org/2000/svg\" xmlns:xlink=\"http://www.w3.org/1999/xlink\" zoomAndPan=\"magnify\"><defs><filter height=\"300%\" id=\"f1qdqsm9w9inuv\" width=\"300%\" x=\"-1\" y=\"-1\"><feGaussianBlur result=\"blurOut\" stdDeviation=\"2.0\"/><feColorMatrix in=\"blurOut\" result=\"blurOut2\" type=\"matrix\" values=\"0 0 0 0 0 0 0 0 0 0 0 0 0 0 0 0 0 0 .4 0\"/><feOffset dx=\"4.0\" dy=\"4.0\" in=\"blurOut2\" result=\"blurOut3\"/><feBlend in=\"SourceGraphic\" in2=\"blurOut3\" mode=\"normal\"/></filter></defs><g><!--class 会社--><rect fill=\"#FEFECE\" filter=\"url(#f1qdqsm9w9inuv)\" height=\"48\" id=\"会社\" style=\"stroke: #A80036; stroke-width: 1.5;\" width=\"56\" x=\"282\" y=\"8\"/><ellipse cx=\"297\" cy=\"24\" fill=\"#ADD1B2\" rx=\"11\" ry=\"11\" style=\"stroke: #A80036; stroke-width: 1.0;\"/><path d=\"M299.9731,29.6431 Q299.3921,29.9419 298.7529,30.0913 Q298.1138,30.2407 297.4082,30.2407 Q294.9014,30.2407 293.5815,28.5889 Q292.2617,26.937 292.2617,23.8159 Q292.2617,20.6865 293.5815,19.0347 Q294.9014,17.3828 297.4082,17.3828 Q298.1138,17.3828 298.7612,17.5322 Q299.4087,17.6816 299.9731,17.9805 L299.9731,20.7031 Q299.3423,20.1221 298.7488,19.8523 Q298.1553,19.5825 297.5244,19.5825 Q296.1797,19.5825 295.4949,20.6492 Q294.8101,21.7158 294.8101,23.8159 Q294.8101,25.9077 295.4949,26.9744 Q296.1797,28.041 297.5244,28.041 Q298.1553,28.041 298.7488,27.7712 Q299.3423,27.5015 299.9731,26.9204 Z \"/><text fill=\"#000000\" font-family=\"sans-serif\" font-size=\"12\" lengthAdjust=\"spacingAndGlyphs\" textLength=\"24\" x=\"311\" y=\"28.5352\">会社</text><line style=\"stroke: #A80036; stroke-width: 1.5;\" x1=\"283\" x2=\"337\" y1=\"40\" y2=\"40\"/><line style=\"stroke: #A80036; stroke-width: 1.5;\" x1=\"283\" x2=\"337\" y1=\"48\" y2=\"48\"/><!--class 持分会社--><rect fill=\"#FEFECE\" filter=\"url(#f1qdqsm9w9inuv)\" height=\"48\" id=\"持分会社\" style=\"stroke: #A80036; stroke-width: 1.5;\" width=\"80\" x=\"213\" y=\"116\"/><ellipse cx=\"228\" cy=\"132\" fill=\"#ADD1B2\" rx=\"11\" ry=\"11\" style=\"stroke: #A80036; stroke-width: 1.0;\"/><path d=\"M230.9731,137.6431 Q230.3921,137.9419 229.7529,138.0913 Q229.1138,138.2407 228.4082,138.2407 Q225.9014,138.2407 224.5815,136.5889 Q223.2617,134.937 223.2617,131.8159 Q223.2617,128.6865 224.5815,127.0347 Q225.9014,125.3828 228.4082,125.3828 Q229.1138,125.3828 229.7612,125.5322 Q230.4087,125.6816 230.9731,125.9805 L230.9731,128.7031 Q230.3423,128.1221 229.7488,127.8523 Q229.1553,127.5825 228.5244,127.5825 Q227.1797,127.5825 226.4949,128.6492 Q225.8101,129.7158 225.8101,131.8159 Q225.8101,133.9077 226.4949,134.9744 Q227.1797,136.041 228.5244,136.041 Q229.1553,136.041 229.7488,135.7712 Q230.3423,135.5015 230.9731,134.9204 Z \"/><text fill=\"#000000\" font-family=\"sans-serif\" font-size=\"12\" lengthAdjust=\"spacingAndGlyphs\" textLength=\"48\" x=\"242\" y=\"136.5352\">持分会社</text><line style=\"stroke: #A80036; stroke-width: 1.5;\" x1=\"214\" x2=\"292\" y1=\"148\" y2=\"148\"/><line style=\"stroke: #A80036; stroke-width: 1.5;\" x1=\"214\" x2=\"292\" y1=\"156\" y2=\"156\"/><!--class 株式会社--><rect fill=\"#FEFECE\" filter=\"url(#f1qdqsm9w9inuv)\" height=\"48\" id=\"株式会社\" style=\"stroke: #A80036; stroke-width: 1.5;\" width=\"80\" x=\"420\" y=\"116\"/><ellipse cx=\"435\" cy=\"132\" fill=\"#ADD1B2\" rx=\"11\" ry=\"11\" style=\"stroke: #A80036; stroke-width: 1.0;\"/><path d=\"M437.9731,137.6431 Q437.3921,137.9419 436.7529,138.0913 Q436.1138,138.2407 435.4082,138.2407 Q432.9014,138.2407 431.5815,136.5889 Q430.2617,134.937 430.2617,131.8159 Q430.2617,128.6865 431.5815,127.0347 Q432.9014,125.3828 435.4082,125.3828 Q436.1138,125.3828 436.7612,125.5322 Q437.4087,125.6816 437.9731,125.9805 L437.9731,128.7031 Q437.3423,128.1221 436.7488,127.8523 Q436.1553,127.5825 435.5244,127.5825 Q434.1797,127.5825 433.4949,128.6492 Q432.8101,129.7158 432.8101,131.8159 Q432.8101,133.9077 433.4949,134.9744 Q434.1797,136.041 435.5244,136.041 Q436.1553,136.041 436.7488,135.7712 Q437.3423,135.5015 437.9731,134.9204 Z \"/><text fill=\"#000000\" font-family=\"sans-serif\" font-size=\"12\" lengthAdjust=\"spacingAndGlyphs\" textLength=\"48\" x=\"449\" y=\"136.5352\">株式会社</text><line style=\"stroke: #A80036; stroke-width: 1.5;\" x1=\"421\" x2=\"499\" y1=\"148\" y2=\"148\"/><line style=\"stroke: #A80036; stroke-width: 1.5;\" x1=\"421\" x2=\"499\" y1=\"156\" y2=\"156\"/><!--class 合名会社--><rect fill=\"#FEFECE\" filter=\"url(#f1qdqsm9w9inuv)\" height=\"48\" id=\"合名会社\" style=\"stroke: #A80036; stroke-width: 1.5;\" width=\"80\" x=\"6\" y=\"224\"/><ellipse cx=\"21\" cy=\"240\" fill=\"#ADD1B2\" rx=\"11\" ry=\"11\" style=\"stroke: #A80036; stroke-width: 1.0;\"/><path d=\"M23.9731,245.6431 Q23.3921,245.9419 22.7529,246.0913 Q22.1138,246.2407 21.4082,246.2407 Q18.9014,246.2407 17.5815,244.5889 Q16.2617,242.937 16.2617,239.8159 Q16.2617,236.6865 17.5815,235.0347 Q18.9014,233.3828 21.4082,233.3828 Q22.1138,233.3828 22.7612,233.5322 Q23.4087,233.6816 23.9731,233.9805 L23.9731,236.7031 Q23.3423,236.1221 22.7488,235.8523 Q22.1553,235.5825 21.5244,235.5825 Q20.1797,235.5825 19.4949,236.6492 Q18.8101,237.7158 18.8101,239.8159 Q18.8101,241.9077 19.4949,242.9744 Q20.1797,244.041 21.5244,244.041 Q22.1553,244.041 22.7488,243.7712 Q23.3423,243.5015 23.9731,242.9204 Z \"/><text fill=\"#000000\" font-family=\"sans-serif\" font-size=\"12\" lengthAdjust=\"spacingAndGlyphs\" textLength=\"48\" x=\"35\" y=\"244.5352\">合名会社</text><line style=\"stroke: #A80036; stroke-width: 1.5;\" x1=\"7\" x2=\"85\" y1=\"256\" y2=\"256\"/><line style=\"stroke: #A80036; stroke-width: 1.5;\" x1=\"7\" x2=\"85\" y1=\"264\" y2=\"264\"/><!--class 合資会社--><rect fill=\"#FEFECE\" filter=\"url(#f1qdqsm9w9inuv)\" height=\"48\" id=\"合資会社\" style=\"stroke: #A80036; stroke-width: 1.5;\" width=\"80\" x=\"121\" y=\"224\"/><ellipse cx=\"136\" cy=\"240\" fill=\"#ADD1B2\" rx=\"11\" ry=\"11\" style=\"stroke: #A80036; stroke-width: 1.0;\"/><path d=\"M138.9731,245.6431 Q138.3921,245.9419 137.7529,246.0913 Q137.1138,246.2407 136.4082,246.2407 Q133.9014,246.2407 132.5815,244.5889 Q131.2617,242.937 131.2617,239.8159 Q131.2617,236.6865 132.5815,235.0347 Q133.9014,233.3828 136.4082,233.3828 Q137.1138,233.3828 137.7612,233.5322 Q138.4087,233.6816 138.9731,233.9805 L138.9731,236.7031 Q138.3423,236.1221 137.7488,235.8523 Q137.1553,235.5825 136.5244,235.5825 Q135.1797,235.5825 134.4949,236.6492 Q133.8101,237.7158 133.8101,239.8159 Q133.8101,241.9077 134.4949,242.9744 Q135.1797,244.041 136.5244,244.041 Q137.1553,244.041 137.7488,243.7712 Q138.3423,243.5015 138.9731,242.9204 Z \"/><text fill=\"#000000\" font-family=\"sans-serif\" font-size=\"12\" lengthAdjust=\"spacingAndGlyphs\" textLength=\"48\" x=\"150\" y=\"244.5352\">合資会社</text><line style=\"stroke: #A80036; stroke-width: 1.5;\" x1=\"122\" x2=\"200\" y1=\"256\" y2=\"256\"/><line style=\"stroke: #A80036; stroke-width: 1.5;\" x1=\"122\" x2=\"200\" y1=\"264\" y2=\"264\"/><!--class 合同会社--><rect fill=\"#FEFECE\" filter=\"url(#f1qdqsm9w9inuv)\" height=\"48\" id=\"合同会社\" style=\"stroke: #A80036; stroke-width: 1.5;\" width=\"80\" x=\"327\" y=\"224\"/><ellipse cx=\"342\" cy=\"240\" fill=\"#ADD1B2\" rx=\"11\" ry=\"11\" style=\"stroke: #A80036; stroke-width: 1.0;\"/><path d=\"M344.9731,245.6431 Q344.3921,245.9419 343.7529,246.0913 Q343.1138,246.2407 342.4082,246.2407 Q339.9014,246.2407 338.5815,244.5889 Q337.2617,242.937 337.2617,239.8159 Q337.2617,236.6865 338.5815,235.0347 Q339.9014,233.3828 342.4082,233.3828 Q343.1138,233.3828 343.7612,233.5322 Q344.4087,233.6816 344.9731,233.9805 L344.9731,236.7031 Q344.3423,236.1221 343.7488,235.8523 Q343.1553,235.5825 342.5244,235.5825 Q341.1797,235.5825 340.4949,236.6492 Q339.8101,237.7158 339.8101,239.8159 Q339.8101,241.9077 340.4949,242.9744 Q341.1797,244.041 342.5244,244.041 Q343.1553,244.041 343.7488,243.7712 Q344.3423,243.5015 344.9731,242.9204 Z \"/><text fill=\"#000000\" font-family=\"sans-serif\" font-size=\"12\" lengthAdjust=\"spacingAndGlyphs\" textLength=\"48\" x=\"356\" y=\"244.5352\">合同会社</text><line style=\"stroke: #A80036; stroke-width: 1.5;\" x1=\"328\" x2=\"406\" y1=\"256\" y2=\"256\"/><line style=\"stroke: #A80036; stroke-width: 1.5;\" x1=\"328\" x2=\"406\" y1=\"264\" y2=\"264\"/><!--class 特例有限会社--><rect fill=\"#FEFECE\" filter=\"url(#f1qdqsm9w9inuv)\" height=\"48\" id=\"特例有限会社\" style=\"stroke: #A80036; stroke-width: 1.5;\" width=\"104\" x=\"513\" y=\"224\"/><ellipse cx=\"528\" cy=\"240\" fill=\"#ADD1B2\" rx=\"11\" ry=\"11\" style=\"stroke: #A80036; stroke-width: 1.0;\"/><path d=\"M530.9731,245.6431 Q530.3921,245.9419 529.7529,246.0913 Q529.1138,246.2407 528.4082,246.2407 Q525.9014,246.2407 524.5815,244.5889 Q523.2617,242.937 523.2617,239.8159 Q523.2617,236.6865 524.5815,235.0347 Q525.9014,233.3828 528.4082,233.3828 Q529.1138,233.3828 529.7612,233.5322 Q530.4087,233.6816 530.9731,233.9805 L530.9731,236.7031 Q530.3423,236.1221 529.7488,235.8523 Q529.1553,235.5825 528.5244,235.5825 Q527.1797,235.5825 526.4949,236.6492 Q525.8101,237.7158 525.8101,239.8159 Q525.8101,241.9077 526.4949,242.9744 Q527.1797,244.041 528.5244,244.041 Q529.1553,244.041 529.7488,243.7712 Q530.3423,243.5015 530.9731,242.9204 Z \"/><text fill=\"#000000\" font-family=\"sans-serif\" font-size=\"12\" lengthAdjust=\"spacingAndGlyphs\" textLength=\"72\" x=\"542\" y=\"244.5352\">特例有限会社</text><line style=\"stroke: #A80036; stroke-width: 1.5;\" x1=\"514\" x2=\"616\" y1=\"256\" y2=\"256\"/><line style=\"stroke: #A80036; stroke-width: 1.5;\" x1=\"514\" x2=\"616\" y1=\"264\" y2=\"264\"/><!--class 無限責任社員--><rect fill=\"#FEFECE\" filter=\"url(#f1qdqsm9w9inuv)\" height=\"48\" id=\"無限責任社員\" style=\"stroke: #A80036; stroke-width: 1.5;\" width=\"104\" x=\"109\" y=\"332\"/><ellipse cx=\"124\" cy=\"348\" fill=\"#ADD1B2\" rx=\"11\" ry=\"11\" style=\"stroke: #A80036; stroke-width: 1.0;\"/><path d=\"M126.9731,353.6431 Q126.3921,353.9419 125.7529,354.0913 Q125.1138,354.2407 124.4082,354.2407 Q121.9014,354.2407 120.5815,352.5889 Q119.2617,350.937 119.2617,347.8159 Q119.2617,344.6865 120.5815,343.0347 Q121.9014,341.3828 124.4082,341.3828 Q125.1138,341.3828 125.7612,341.5322 Q126.4087,341.6816 126.9731,341.9805 L126.9731,344.7031 Q126.3423,344.1221 125.7488,343.8523 Q125.1553,343.5825 124.5244,343.5825 Q123.1797,343.5825 122.4949,344.6492 Q121.8101,345.7158 121.8101,347.8159 Q121.8101,349.9077 122.4949,350.9744 Q123.1797,352.041 124.5244,352.041 Q125.1553,352.041 125.7488,351.7712 Q126.3423,351.5015 126.9731,350.9204 Z \"/><text fill=\"#000000\" font-family=\"sans-serif\" font-size=\"12\" lengthAdjust=\"spacingAndGlyphs\" textLength=\"72\" x=\"138\" y=\"352.5352\">無限責任社員</text><line style=\"stroke: #A80036; stroke-width: 1.5;\" x1=\"110\" x2=\"212\" y1=\"364\" y2=\"364\"/><line style=\"stroke: #A80036; stroke-width: 1.5;\" x1=\"110\" x2=\"212\" y1=\"372\" y2=\"372\"/><!--class 有限責任社員--><rect fill=\"#FEFECE\" filter=\"url(#f1qdqsm9w9inuv)\" height=\"48\" id=\"有限責任社員\" style=\"stroke: #A80036; stroke-width: 1.5;\" width=\"104\" x=\"248\" y=\"332\"/><ellipse cx=\"263\" cy=\"348\" fill=\"#ADD1B2\" rx=\"11\" ry=\"11\" style=\"stroke: #A80036; stroke-width: 1.0;\"/><path d=\"M265.9731,353.6431 Q265.3921,353.9419 264.7529,354.0913 Q264.1138,354.2407 263.4082,354.2407 Q260.9014,354.2407 259.5815,352.5889 Q258.2617,350.937 258.2617,347.8159 Q258.2617,344.6865 259.5815,343.0347 Q260.9014,341.3828 263.4082,341.3828 Q264.1138,341.3828 264.7612,341.5322 Q265.4087,341.6816 265.9731,341.9805 L265.9731,344.7031 Q265.3423,344.1221 264.7488,343.8523 Q264.1553,343.5825 263.5244,343.5825 Q262.1797,343.5825 261.4949,344.6492 Q260.8101,345.7158 260.8101,347.8159 Q260.8101,349.9077 261.4949,350.9744 Q262.1797,352.041 263.5244,352.041 Q264.1553,352.041 264.7488,351.7712 Q265.3423,351.5015 265.9731,350.9204 Z \"/><text fill=\"#000000\" font-family=\"sans-serif\" font-size=\"12\" lengthAdjust=\"spacingAndGlyphs\" textLength=\"72\" x=\"277\" y=\"352.5352\">有限責任社員</text><line style=\"stroke: #A80036; stroke-width: 1.5;\" x1=\"249\" x2=\"351\" y1=\"364\" y2=\"364\"/><line style=\"stroke: #A80036; stroke-width: 1.5;\" x1=\"249\" x2=\"351\" y1=\"372\" y2=\"372\"/><!--class 社員--><rect fill=\"#FEFECE\" filter=\"url(#f1qdqsm9w9inuv)\" height=\"48\" id=\"社員\" style=\"stroke: #A80036; stroke-width: 1.5;\" width=\"56\" x=\"236\" y=\"224\"/><ellipse cx=\"251\" cy=\"240\" fill=\"#ADD1B2\" rx=\"11\" ry=\"11\" style=\"stroke: #A80036; stroke-width: 1.0;\"/><path d=\"M253.9731,245.6431 Q253.3921,245.9419 252.7529,246.0913 Q252.1138,246.2407 251.4082,246.2407 Q248.9014,246.2407 247.5815,244.5889 Q246.2617,242.937 246.2617,239.8159 Q246.2617,236.6865 247.5815,235.0347 Q248.9014,233.3828 251.4082,233.3828 Q252.1138,233.3828 252.7612,233.5322 Q253.4087,233.6816 253.9731,233.9805 L253.9731,236.7031 Q253.3423,236.1221 252.7488,235.8523 Q252.1553,235.5825 251.5244,235.5825 Q250.1797,235.5825 249.4949,236.6492 Q248.8101,237.7158 248.8101,239.8159 Q248.8101,241.9077 249.4949,242.9744 Q250.1797,244.041 251.5244,244.041 Q252.1553,244.041 252.7488,243.7712 Q253.3423,243.5015 253.9731,242.9204 Z \"/><text fill=\"#000000\" font-family=\"sans-serif\" font-size=\"12\" lengthAdjust=\"spacingAndGlyphs\" textLength=\"24\" x=\"265\" y=\"244.5352\">社員</text><line style=\"stroke: #A80036; stroke-width: 1.5;\" x1=\"237\" x2=\"291\" y1=\"256\" y2=\"256\"/><line style=\"stroke: #A80036; stroke-width: 1.5;\" x1=\"237\" x2=\"291\" y1=\"264\" y2=\"264\"/><!--class 直接責任--><rect fill=\"#FEFECE\" filter=\"url(#f1qdqsm9w9inuv)\" height=\"48\" id=\"直接責任\" style=\"stroke: #A80036; stroke-width: 1.5;\" width=\"80\" x=\"202\" y=\"440\"/><ellipse cx=\"217\" cy=\"456\" fill=\"#ADD1B2\" rx=\"11\" ry=\"11\" style=\"stroke: #A80036; stroke-width: 1.0;\"/><path d=\"M219.9731,461.6431 Q219.3921,461.9419 218.7529,462.0913 Q218.1138,462.2407 217.4082,462.2407 Q214.9014,462.2407 213.5815,460.5889 Q212.2617,458.937 212.2617,455.8159 Q212.2617,452.6865 213.5815,451.0347 Q214.9014,449.3828 217.4082,449.3828 Q218.1138,449.3828 218.7612,449.5322 Q219.4087,449.6816 219.9731,449.9805 L219.9731,452.7031 Q219.3423,452.1221 218.7488,451.8523 Q218.1553,451.5825 217.5244,451.5825 Q216.1797,451.5825 215.4949,452.6492 Q214.8101,453.7158 214.8101,455.8159 Q214.8101,457.9077 215.4949,458.9744 Q216.1797,460.041 217.5244,460.041 Q218.1553,460.041 218.7488,459.7712 Q219.3423,459.5015 219.9731,458.9204 Z \"/><text fill=\"#000000\" font-family=\"sans-serif\" font-size=\"12\" lengthAdjust=\"spacingAndGlyphs\" textLength=\"48\" x=\"231\" y=\"460.5352\">直接責任</text><line style=\"stroke: #A80036; stroke-width: 1.5;\" x1=\"203\" x2=\"281\" y1=\"472\" y2=\"472\"/><line style=\"stroke: #A80036; stroke-width: 1.5;\" x1=\"203\" x2=\"281\" y1=\"480\" y2=\"480\"/><!--class 間接責任--><rect fill=\"#FEFECE\" filter=\"url(#f1qdqsm9w9inuv)\" height=\"48\" id=\"間接責任\" style=\"stroke: #A80036; stroke-width: 1.5;\" width=\"80\" x=\"317\" y=\"440\"/><ellipse cx=\"332\" cy=\"456\" fill=\"#ADD1B2\" rx=\"11\" ry=\"11\" style=\"stroke: #A80036; stroke-width: 1.0;\"/><path d=\"M334.9731,461.6431 Q334.3921,461.9419 333.7529,462.0913 Q333.1138,462.2407 332.4082,462.2407 Q329.9014,462.2407 328.5815,460.5889 Q327.2617,458.937 327.2617,455.8159 Q327.2617,452.6865 328.5815,451.0347 Q329.9014,449.3828 332.4082,449.3828 Q333.1138,449.3828 333.7612,449.5322 Q334.4087,449.6816 334.9731,449.9805 L334.9731,452.7031 Q334.3423,452.1221 333.7488,451.8523 Q333.1553,451.5825 332.5244,451.5825 Q331.1797,451.5825 330.4949,452.6492 Q329.8101,453.7158 329.8101,455.8159 Q329.8101,457.9077 330.4949,458.9744 Q331.1797,460.041 332.5244,460.041 Q333.1553,460.041 333.7488,459.7712 Q334.3423,459.5015 334.9731,458.9204 Z \"/><text fill=\"#000000\" font-family=\"sans-serif\" font-size=\"12\" lengthAdjust=\"spacingAndGlyphs\" textLength=\"48\" x=\"346\" y=\"460.5352\">間接責任</text><line style=\"stroke: #A80036; stroke-width: 1.5;\" x1=\"318\" x2=\"396\" y1=\"472\" y2=\"472\"/><line style=\"stroke: #A80036; stroke-width: 1.5;\" x1=\"318\" x2=\"396\" y1=\"480\" y2=\"480\"/><!--class 責任--><rect fill=\"#FEFECE\" filter=\"url(#f1qdqsm9w9inuv)\" height=\"48\" id=\"責任\" style=\"stroke: #A80036; stroke-width: 1.5;\" width=\"56\" x=\"387\" y=\"332\"/><ellipse cx=\"402\" cy=\"348\" fill=\"#ADD1B2\" rx=\"11\" ry=\"11\" style=\"stroke: #A80036; stroke-width: 1.0;\"/><path d=\"M404.9731,353.6431 Q404.3921,353.9419 403.7529,354.0913 Q403.1138,354.2407 402.4082,354.2407 Q399.9014,354.2407 398.5815,352.5889 Q397.2617,350.937 397.2617,347.8159 Q397.2617,344.6865 398.5815,343.0347 Q399.9014,341.3828 402.4082,341.3828 Q403.1138,341.3828 403.7612,341.5322 Q404.4087,341.6816 404.9731,341.9805 L404.9731,344.7031 Q404.3423,344.1221 403.7488,343.8523 Q403.1553,343.5825 402.5244,343.5825 Q401.1797,343.5825 400.4949,344.6492 Q399.8101,345.7158 399.8101,347.8159 Q399.8101,349.9077 400.4949,350.9744 Q401.1797,352.041 402.5244,352.041 Q403.1553,352.041 403.7488,351.7712 Q404.3423,351.5015 404.9731,350.9204 Z \"/><text fill=\"#000000\" font-family=\"sans-serif\" font-size=\"12\" lengthAdjust=\"spacingAndGlyphs\" textLength=\"24\" x=\"416\" y=\"352.5352\">責任</text><line style=\"stroke: #A80036; stroke-width: 1.5;\" x1=\"388\" x2=\"442\" y1=\"364\" y2=\"364\"/><line style=\"stroke: #A80036; stroke-width: 1.5;\" x1=\"388\" x2=\"442\" y1=\"372\" y2=\"372\"/><!--link 会社 to 持分会社--><path d=\"M287.6408,74.3649 C280.2108,88.4428 272.1962,103.6283 265.7492,115.8436 \" fill=\"none\" id=\"会社-持分会社\" style=\"stroke: #A80036; stroke-width: 1.0;\"/><polygon fill=\"none\" points=\"281.6822,70.6577,297.2081,56.2373,294.0636,77.1923,281.6822,70.6577\" style=\"stroke: #A80036; stroke-width: 1.0;\"/><!--link 会社 to 株式会社--><path d=\"M354.7217,64.1997 C377.7088,80.7503 405.2562,100.5845 426.4057,115.8121 \" fill=\"none\" id=\"会社-株式会社\" style=\"stroke: #A80036; stroke-width: 1.0;\"/><polygon fill=\"none\" points=\"350.3544,69.6809,338.2139,52.314,358.5347,58.3194,350.3544,69.6809\" style=\"stroke: #A80036; stroke-width: 1.0;\"/><!--link 持分会社 to 合名会社--><path d=\"M194.3907,170.5788 C159.8554,188.5972 117.0494,210.9307 86.3012,226.9733 \" fill=\"none\" id=\"持分会社-合名会社\" style=\"stroke: #A80036; stroke-width: 1.0;\"/><polygon fill=\"none\" points=\"191.6272,164.1251,212.5969,161.0799,198.1032,176.5373,191.6272,164.1251\" style=\"stroke: #A80036; stroke-width: 1.0;\"/><!--link 持分会社 to 合資会社--><path d=\"M219.3501,179.5021 C206.6949,194.3582 192.6928,210.7954 181.5777,223.8436 \" fill=\"none\" id=\"持分会社-合資会社\" style=\"stroke: #A80036; stroke-width: 1.0;\"/><polygon fill=\"none\" points=\"214.0553,174.9229,232.3534,164.2373,224.7128,184.0015,214.0553,174.9229\" style=\"stroke: #A80036; stroke-width: 1.0;\"/><!--link 持分会社 to 合同会社--><path d=\"M293.2005,178.0847 C309.267,193.3056 327.2889,210.379 341.5016,223.8436 \" fill=\"none\" id=\"持分会社-合同会社\" style=\"stroke: #A80036; stroke-width: 1.0;\"/><polygon fill=\"none\" points=\"288.2887,183.0739,278.5838,164.2373,297.9171,172.9106,288.2887,183.0739\" style=\"stroke: #A80036; stroke-width: 1.0;\"/><!--link 株式会社 to 特例有限会社--><path d=\"M497.9443,179.0285 C512.5079,194.0081 528.6939,210.6566 541.5146,223.8436 \" fill=\"none\" id=\"株式会社-特例有限会社\" style=\"stroke: #A80036; stroke-width: 1.0;\"/><polygon fill=\"none\" points=\"492.4867,183.4568,483.564,164.2373,502.5246,173.6977,492.4867,183.4568\" style=\"stroke: #A80036; stroke-width: 1.0;\"/><!--link 合名会社 to 無限責任社員--><path d=\"M81.6098,281.4422 C98.9712,297.7469 119.4625,316.9909 135.2779,331.8436 \" fill=\"none\" id=\"合名会社-無限責任社員\" style=\"stroke: #A80036; stroke-width: 1.0;\"/><polygon fill=\"#A80036\" points=\"71.8082,272.2373,73.4435,279.2605,80.5555,280.4522,78.9202,273.429,71.8082,272.2373\" style=\"stroke: #A80036; stroke-width: 1.0;\"/><!--link 合資会社 to 無限責任社員--><path d=\"M161,285.6145 C161,300.9531 161,318.2402 161,331.8436 \" fill=\"none\" id=\"合資会社-無限責任社員\" style=\"stroke: #A80036; stroke-width: 1.0;\"/><polygon fill=\"#A80036\" points=\"161,272.2373,157,278.2373,161,284.2373,165,278.2373,161,272.2373\" style=\"stroke: #A80036; stroke-width: 1.0;\"/><!--link 合資会社 to 有限責任社員--><path d=\"M202.5768,280.3043 C223.8657,296.8453 249.3472,316.6439 268.9098,331.8436 \" fill=\"none\" id=\"合資会社-有限責任社員\" style=\"stroke: #A80036; stroke-width: 1.0;\"/><polygon fill=\"#A80036\" points=\"192.1943,272.2373,194.4781,279.0772,201.6702,279.5999,199.3864,272.76,192.1943,272.2373\" style=\"stroke: #A80036; stroke-width: 1.0;\"/><!--link 合同会社 to 有限責任社員--><path d=\"M344.824,283.7464 C335.0287,299.5358 323.7695,317.6849 314.9859,331.8436 \" fill=\"none\" id=\"合同会社-有限責任社員\" style=\"stroke: #A80036; stroke-width: 1.0;\"/><polygon fill=\"#A80036\" points=\"351.9639,272.2373,345.4018,275.2271,345.6378,282.4344,352.1999,279.4445,351.9639,272.2373\" style=\"stroke: #A80036; stroke-width: 1.0;\"/><!--link 株式会社 to 有限責任社員--><path d=\"M457.2361,177.002 C453.5572,205.2496 444.9829,243.9587 425,272 C406.6398,297.7642 377.7102,317.9391 352.3044,332.0526 \" fill=\"none\" id=\"株式会社-有限責任社員\" style=\"stroke: #A80036; stroke-width: 1.0;\"/><polygon fill=\"#A80036\" points=\"458.6773,164.0679,454.0374,169.588,457.3483,175.9941,461.9882,170.474,458.6773,164.0679\" style=\"stroke: #A80036; stroke-width: 1.0;\"/><!--link 社員 to 無限責任社員--><path d=\"M226.7784,287.0285 C212.4923,302.0081 196.6145,318.6566 184.0381,331.8436 \" fill=\"none\" id=\"社員-無限責任社員\" style=\"stroke: #A80036; stroke-width: 1.0;\"/><polygon fill=\"none\" points=\"222.016,281.8794,240.8848,272.2373,232.1472,291.5416,222.016,281.8794\" style=\"stroke: #A80036; stroke-width: 1.0;\"/><!--link 社員 to 有限責任社員--><path d=\"M278.4421,291.3264 C283.0438,305.1315 287.9686,319.9059 291.9479,331.8436 \" fill=\"none\" id=\"社員-有限責任社員\" style=\"stroke: #A80036; stroke-width: 1.0;\"/><polygon fill=\"none\" points=\"271.7629,293.4246,272.0791,272.2373,285.0445,288.9974,271.7629,293.4246\" style=\"stroke: #A80036; stroke-width: 1.0;\"/><!--link 無限責任社員 to 直接責任--><path d=\"M187.1153,390.8204 C199.1169,406.8226 213.0555,425.4073 223.8827,439.8436 \" fill=\"none\" id=\"無限責任社員-直接責任\" style=\"stroke: #A80036; stroke-width: 1.0;\"/><polygon fill=\"#A80036\" points=\"179.178,380.2373,179.578,387.4373,186.378,389.8373,185.978,382.6373,179.178,380.2373\" style=\"stroke: #A80036; stroke-width: 1.0;\"/><!--link 無限責任社員 to 間接責任--><path d=\"M216.392,386.5221 C248.3639,404.1393 287.849,425.8964 316.8293,441.8651 \" fill=\"none\" id=\"無限責任社員-間接責任\" style=\"stroke: #A80036; stroke-width: 1.0;\"/><polygon fill=\"#A80036\" points=\"204.9862,380.2373,208.3108,386.6363,215.4963,386.0286,212.1716,379.6296,204.9862,380.2373\" style=\"stroke: #A80036; stroke-width: 1.0;\"/><!--link 有限責任社員 to 直接責任--><path d=\"M280.8029,391.7464 C272.3234,407.5358 262.5766,425.6849 254.9729,439.8436 \" fill=\"none\" id=\"有限責任社員-直接責任\" style=\"stroke: #A80036; stroke-width: 1.0;\"/><polygon fill=\"#A80036\" points=\"286.9837,380.2373,280.621,383.6307,281.3062,390.8092,287.6689,387.4158,286.9837,380.2373\" style=\"stroke: #A80036; stroke-width: 1.0;\"/><!--link 有限責任社員 to 間接責任--><path d=\"M318.8662,391.7464 C327.1995,407.5358 336.7782,425.6849 344.2508,439.8436 \" fill=\"none\" id=\"有限責任社員-間接責任\" style=\"stroke: #A80036; stroke-width: 1.0;\"/><polygon fill=\"#A80036\" points=\"312.7919,380.2373,312.0549,387.4106,318.393,390.8499,319.13,383.6766,312.7919,380.2373\" style=\"stroke: #A80036; stroke-width: 1.0;\"/><!--link 責任 to 直接責任--><path d=\"M369.8259,384.2012 C342.0838,401.52 306.9283,423.4667 280.5101,439.959 \" fill=\"none\" id=\"責任-直接責任\" style=\"stroke: #A80036; stroke-width: 1.0;\"/><polygon fill=\"none\" points=\"366.1471,378.2457,386.8195,373.5924,373.561,390.1216,366.1471,378.2457\" style=\"stroke: #A80036; stroke-width: 1.0;\"/><!--link 責任 to 間接責任--><path d=\"M392.506,397.8854 C384.8737,412.0972 376.6075,427.4895 369.9729,439.8436 \" fill=\"none\" id=\"責任-間接責任\" style=\"stroke: #A80036; stroke-width: 1.0;\"/><polygon fill=\"none\" points=\"386.3541,394.5453,401.9837,380.2373,398.688,401.1691,386.3541,394.5453\" style=\"stroke: #A80036; stroke-width: 1.0;\"/><!--\n",
       "@startuml\n",
       "class 会社\n",
       "会社 <|- - 持分会社\n",
       "会社 <|- - 株式会社\n",
       "持分会社 <|- - 合名会社\n",
       "持分会社 <|- - 合資会社\n",
       "持分会社 <|- - 合同会社\n",
       "株式会社 <|- - 特例有限会社\n",
       "合名会社 *- - 無限責任社員\n",
       "合資会社 *- - 無限責任社員\n",
       "合資会社 *- - 有限責任社員\n",
       "合同会社 *- - 有限責任社員\n",
       "株式会社 *- - 有限責任社員\n",
       "\n",
       "class 社員\n",
       "社員 <|- - 無限責任社員\n",
       "社員 <|- - 有限責任社員\n",
       "無限責任社員 *- - 直接責任\n",
       "無限責任社員 *- - 間接責任\n",
       "有限責任社員 *- - 直接責任\n",
       "有限責任社員 *- - 間接責任\n",
       "\n",
       "class 責任\n",
       "責任 <|- - 直接責任\n",
       "責任 <|- - 間接責任\n",
       "@enduml\n",
       "\n",
       "PlantUML version 1.2018.10(Sun Aug 26 02:02:59 JST 2018)\n",
       "(GPL source distribution)\n",
       "Java Runtime: OpenJDK Runtime Environment\n",
       "JVM: OpenJDK 64-Bit Server VM\n",
       "Java Version: 1.8.0_181-b02\n",
       "Operating System: Mac OS X\n",
       "OS Version: 10.13.6\n",
       "Default Encoding: UTF-8\n",
       "Language: ja\n",
       "Country: JP\n",
       "--></g></svg>"
      ],
      "text/plain": [
       "<IPython.core.display.SVG object>"
      ]
     },
     "execution_count": 31,
     "metadata": {},
     "output_type": "execute_result"
    }
   ],
   "source": [
    "%%plantuml --jar\n",
    "\n",
    "@startuml\n",
    "class 会社\n",
    "会社 <|-- 持分会社\n",
    "会社 <|-- 株式会社\n",
    "持分会社 <|-- 合名会社\n",
    "持分会社 <|-- 合資会社\n",
    "持分会社 <|-- 合同会社\n",
    "株式会社 <|-- 特例有限会社\n",
    "合名会社 *-- 無限責任社員\n",
    "合資会社 *-- 無限責任社員\n",
    "合資会社 *-- 有限責任社員\n",
    "合同会社 *-- 有限責任社員\n",
    "株式会社 *-- 有限責任社員\n",
    "\n",
    "class 社員\n",
    "社員 <|-- 無限責任社員\n",
    "社員 <|-- 有限責任社員\n",
    "無限責任社員 *-- 直接責任\n",
    "無限責任社員 *-- 間接責任\n",
    "有限責任社員 *-- 直接責任\n",
    "有限責任社員 *-- 間接責任\n",
    "\n",
    "class 責任\n",
    "責任 <|-- 直接責任\n",
    "責任 <|-- 間接責任\n",
    "@enduml"
   ]
  },
  {
   "cell_type": "code",
   "execution_count": null,
   "metadata": {},
   "outputs": [],
   "source": [
    "class 会社:\n",
    "    pass\n",
    "\n",
    "\n",
    "class 物的会社(会社):\n",
    "    def __str__(self):\n",
    "        return \"所有と経営が分離\"\n",
    "\n",
    "\n",
    "class 人的会社(会社):\n",
    "    def __str__(self):\n",
    "        return \"所有と経営が一致\"\n",
    "\n",
    "\n",
    "class 持分会社(人的会社):\n",
    "    _社員 = []\n",
    "    _資本 = []\n",
    "\n",
    "    def __init__(self, 社員構成):\n",
    "        self._社員 = 社員構成\n",
    "        self._法人格 = True\n",
    "\n",
    "    @property\n",
    "    def 社員(self):\n",
    "        return self._社員\n",
    "\n",
    "    @property\n",
    "    def 法人格(self):\n",
    "        return self._法人格\n",
    "\n",
    "    @property\n",
    "    def 資本(self):\n",
    "        return self._資本    \n",
    "\n",
    "    def 権利義務の帰属主体(self):\n",
    "        return self._法人格\n"
   ]
  },
  {
   "cell_type": "code",
   "execution_count": null,
   "metadata": {},
   "outputs": [],
   "source": [
    "\n",
    "class 社員:\n",
    "    _責任 = 責任()\n",
    "    _権利 = []\n",
    "    _資本 = {}\n",
    "\n",
    "    def __init__(self, 責任, 資本=None):\n",
    "        if 資本 is None:\n",
    "            資本 = {'財産': 財産(), '信用': 信用(), '労務': 労務()}\n",
    "        self._責任 = 責任\n",
    "        self._資本 = 資本\n",
    "\n",
    "    @property\n",
    "    def 責任(self):\n",
    "        return self._責任\n",
    "\n",
    "    @property\n",
    "    def 権利(self):\n",
    "        return self._権利\n",
    "\n",
    "    @権利.setter\n",
    "    def 権利(self, 権利):\n",
    "        self._権利 = 権利\n",
    "\n",
    "    @property\n",
    "    def 資本(self):\n",
    "        return self._資本\n",
    "\n",
    "    @資本.setter\n",
    "    def 資本(self, 資本):\n",
    "        self._資本 = 資本\n",
    "\n",
    "    def 出資(self, 資本):\n",
    "        出資 = self._資本[資本]\n",
    "        del self._資本[資本]\n",
    "        return 出資\n",
    "\n",
    "    def 承認(self, 社員):\n",
    "        return False\n",
    "\n",
    "    def __hash__(self):\n",
    "        return hash(repr(self))\n",
    "\n",
    "    def __eq__(self, other):\n",
    "        if not isinstance(other, self.__class__):\n",
    "            return False\n",
    "        if self.責任 != other.責任:\n",
    "            return False\n",
    "        return type(self) == type(other)\n",
    "\n",
    "    def __ne__(self, other):\n",
    "        if not isinstance(other, self.__class__):\n",
    "            return True\n",
    "        return type(self) != type(other)\n",
    "\n",
    "\n",
    "class 無限責任社員(社員):\n",
    "    pass\n",
    "\n",
    "\n",
    "class 有限責任社員(社員):\n",
    "    pass\n"
   ]
  },
  {
   "cell_type": "code",
   "execution_count": null,
   "metadata": {},
   "outputs": [],
   "source": [
    "\n",
    "class 責任:\n",
    "    def __eq__(self, other):\n",
    "        if not isinstance(other, self.__class__):\n",
    "            return False\n",
    "        return type(self) == type(other)\n",
    "\n",
    "    def __ne__(self, other):\n",
    "        if not isinstance(other, self.__class__):\n",
    "            return True\n",
    "        return type(self) != type(other)\n",
    "\n",
    "\n",
    "class 直接責任(責任):\n",
    "    pass\n",
    "\n",
    "\n",
    "class 間接責任(責任):\n",
    "    pass\n",
    "\n",
    "\n",
    "class 権利:\n",
    "    def __eq__(self, other):\n",
    "        if not isinstance(other, self.__class__):\n",
    "            return False\n",
    "        return type(self) == type(other)\n",
    "\n",
    "    def __ne__(self, other):\n",
    "        if not isinstance(other, self.__class__):\n",
    "            return True\n",
    "        return type(self) != type(other)\n",
    "\n",
    "\n",
    "class 業務執行権(権利):\n",
    "    pass\n",
    "\n",
    "\n",
    "class 会社代表権(権利):\n",
    "    pass\n"
   ]
  },
  {
   "cell_type": "code",
   "execution_count": null,
   "metadata": {},
   "outputs": [],
   "source": [
    "\n",
    "class 資本:\n",
    "    def __eq__(self, other):\n",
    "        if not isinstance(other, self.__class__):\n",
    "            return False\n",
    "        return type(self) == type(other)\n",
    "\n",
    "    def __ne__(self, other):\n",
    "        if not isinstance(other, self.__class__):\n",
    "            return True\n",
    "        return type(self) != type(other)\n",
    "\n",
    "\n",
    "class 財産(資本):\n",
    "    pass\n",
    "\n",
    "\n",
    "class 信用(資本):\n",
    "    pass\n",
    "\n",
    "\n",
    "class 労務(資本):\n",
    "    pass\n"
   ]
  },
  {
   "cell_type": "markdown",
   "metadata": {},
   "source": [
    "### 合名会社\n",
    "\n",
    "1. 定義\n",
    " \n",
    "    + 直接無限責任社員のみからなる会社\n",
    "    + 法人である以上、権利・義務の帰属主体となる\n",
    "\n",
    "1. 特質\n",
    "\n",
    "    + 社員は業務執行権と会社代表権を持つ\n",
    "    + 出資の目的は、財産・信用・労務のいずれでもよい\n",
    "    + 退社制度が認められる\n",
    "    + 他の社員の承諾がない限り、原則として持分の譲渡はできない\n",
    "    + 定款によって持分の譲渡を禁止することができる\n",
    "\n",
    "1. 設立"
   ]
  },
  {
   "cell_type": "code",
   "execution_count": 24,
   "metadata": {},
   "outputs": [
    {
     "name": "stderr",
     "output_type": "stream",
     "text": [
      "."
     ]
    },
    {
     "name": "stderr",
     "output_type": "stream",
     "text": [
      "."
     ]
    },
    {
     "name": "stderr",
     "output_type": "stream",
     "text": [
      "."
     ]
    },
    {
     "name": "stderr",
     "output_type": "stream",
     "text": [
      "F"
     ]
    },
    {
     "name": "stderr",
     "output_type": "stream",
     "text": [
      "."
     ]
    },
    {
     "name": "stderr",
     "output_type": "stream",
     "text": [
      "."
     ]
    },
    {
     "name": "stderr",
     "output_type": "stream",
     "text": [
      "."
     ]
    },
    {
     "name": "stderr",
     "output_type": "stream",
     "text": [
      "."
     ]
    },
    {
     "name": "stderr",
     "output_type": "stream",
     "text": [
      "."
     ]
    },
    {
     "name": "stderr",
     "output_type": "stream",
     "text": [
      "."
     ]
    },
    {
     "name": "stderr",
     "output_type": "stream",
     "text": [
      "."
     ]
    },
    {
     "name": "stderr",
     "output_type": "stream",
     "text": [
      "."
     ]
    },
    {
     "name": "stderr",
     "output_type": "stream",
     "text": [
      "."
     ]
    },
    {
     "name": "stderr",
     "output_type": "stream",
     "text": [
      "."
     ]
    }
   ],
   "source": [
    "import unittest\n",
    "\n",
    "\n",
    "class 合名会社(持分会社):\n",
    "    def __init__(self, 社員構成):\n",
    "        if 有限責任社員(間接責任()) in 社員構成:\n",
    "            raise Exception('無限責任社員のみ')\n",
    "        if 有限責任社員(直接責任()) in 社員構成:\n",
    "            raise Exception('無限責任社員のみ')\n",
    "\n",
    "        [社員.権利.append(業務執行権()) for 社員 in 社員構成]\n",
    "        [社員.権利.append(会社代表権()) for 社員 in 社員構成]\n",
    "\n",
    "        self._社員 = 社員構成\n",
    "        self._法人格 = True\n",
    "\n",
    "        [self._資本.append(社員.出資('財産')) for 社員 in self._社員]\n",
    "        [self._資本.append(社員.出資('信用')) for 社員 in self._社員]\n",
    "        [self._資本.append(社員.出資('労務')) for 社員 in self._社員]\n",
    "\n",
    "    def 退社(self, 社員):\n",
    "        self._社員.remove(社員)\n",
    "\n",
    "    def 持分の譲渡(self, 譲渡する社員):\n",
    "        承認社員 = self._社員\n",
    "        承認社員.remove(譲渡する社員)\n",
    "        for 社員 in 承認社員:\n",
    "            if not 社員.承認(譲渡する社員):\n",
    "                raise Exception('持分の譲渡はできない')\n",
    "            else:\n",
    "                self._社員.remove(譲渡する社員)\n",
    "\n",
    "\n",
    "class 合名会社テスト(unittest.TestCase):\n",
    "    def test_合名会社は持分会社(self):\n",
    "        self.assertTrue(issubclass(合名会社, 持分会社))\n",
    "\n",
    "    def test_合名会社は無限責任社員のみで構成される(self):\n",
    "        社員 = 無限責任社員(直接責任())\n",
    "        会社 = 合名会社([社員])\n",
    "        self.assertIn(会社.社員[0], [社員])\n",
    "\n",
    "        with self.assertRaises(Exception) as cm:\n",
    "            合名会社([有限責任社員(直接責任())])\n",
    "        self.assertEqual(cm.exception.args[0], '無限責任社員のみ')\n",
    "\n",
    "    def test_合名会社は所有と経営が一致している(self):\n",
    "        社員 = 無限責任社員(直接責任())\n",
    "        会社 = 合名会社([社員])\n",
    "        self.assertEqual(str(会社), '所有と経営が一致')\n",
    "\n",
    "    def test_合名会社は法人格を持つ(self):\n",
    "        社員 = 無限責任社員(直接責任())\n",
    "        会社 = 合名会社([社員])\n",
    "        self.assertTrue(会社.法人格)\n",
    "\n",
    "    def test_合名会社は権利義務の帰属主体となる(self):\n",
    "        社員 = 無限責任社員(直接責任())\n",
    "        会社 = 合名会社([社員])\n",
    "        self.assertTrue(会社.権利義務の帰属主体())\n",
    "\n",
    "    def test_合名会社の社員は業務執行権と会社代表権を持つ(self):\n",
    "        社員 = 無限責任社員(直接責任())\n",
    "        会社 = 合名会社([社員])\n",
    "        self.assertIn(業務執行権(), 会社.社員[0].権利)\n",
    "        self.assertIn(会社代表権(), 会社.社員[0].権利)\n",
    "\n",
    "    def test_合名会社の出資の目的は財産信用労務のいずれでも良い(self):\n",
    "        社員 = 無限責任社員(直接責任())\n",
    "        会社 = 合名会社([社員])\n",
    "        self.assertIn(財産(), 会社.資本)\n",
    "        self.assertIn(信用(), 会社.資本)\n",
    "        self.assertIn(労務(), 会社.資本)\n",
    "\n",
    "    def test_合名会社の社員は退社制度が認められる(self):\n",
    "        社員1 = 無限責任社員(直接責任())\n",
    "        社員2 = 無限責任社員(直接責任())\n",
    "        会社 = 合名会社([社員1, 社員2])\n",
    "        会社.退社(社員1)\n",
    "        self.assertIn(会社.社員[0], [社員2])\n",
    "\n",
    "    def test_合名会社の社員は他の社員の承諾がない限り原則として持分の譲渡はできない(self):\n",
    "        社員1 = 無限責任社員(直接責任())\n",
    "        社員2 = 無限責任社員(直接責任())\n",
    "        社員3 = 無限責任社員(直接責任())\n",
    "        会社 = 合名会社([社員1, 社員2, 社員3])\n",
    "        with self.assertRaises(Exception) as cm:\n",
    "            会社.持分の譲渡(社員1)\n",
    "        self.assertEqual(cm.exception.args[0], '持分の譲渡はできない')\n",
    "\n",
    "\n",
    "if __name__ == '__main__':\n",
    "    unittest.main(argv=['first-arg-is-ignored'], exit=False)\n"
   ]
  },
  {
   "cell_type": "markdown",
   "metadata": {},
   "source": [
    "### 合資会社\n",
    "\n",
    "1. 定義\n",
    " \n",
    "    + 直接無限責任社員と直接有限責任社員からなる会社\n",
    "    + 法人である以上、権利・義務の帰属主体となる\n",
    "\n",
    "1. 特質\n",
    "\n",
    "    + 各社員は原則として業務執行権を有し、義務を負う\n",
    "    + 直接有限責任社員の出資は金銭等に限られ、信用・労務による出資はできない    \n",
    "\n",
    "1. 設立"
   ]
  },
  {
   "cell_type": "code",
   "execution_count": 21,
   "metadata": {},
   "outputs": [
    {
     "name": "stderr",
     "output_type": "stream",
     "text": [
      "."
     ]
    },
    {
     "name": "stderr",
     "output_type": "stream",
     "text": [
      "."
     ]
    },
    {
     "name": "stderr",
     "output_type": "stream",
     "text": [
      "."
     ]
    },
    {
     "name": "stderr",
     "output_type": "stream",
     "text": [
      "F"
     ]
    },
    {
     "name": "stderr",
     "output_type": "stream",
     "text": [
      "."
     ]
    },
    {
     "name": "stderr",
     "output_type": "stream",
     "text": [
      "."
     ]
    },
    {
     "name": "stderr",
     "output_type": "stream",
     "text": [
      "."
     ]
    },
    {
     "name": "stderr",
     "output_type": "stream",
     "text": [
      "."
     ]
    },
    {
     "name": "stderr",
     "output_type": "stream",
     "text": [
      "."
     ]
    },
    {
     "name": "stderr",
     "output_type": "stream",
     "text": [
      "."
     ]
    },
    {
     "name": "stderr",
     "output_type": "stream",
     "text": [
      "."
     ]
    },
    {
     "name": "stderr",
     "output_type": "stream",
     "text": [
      "."
     ]
    },
    {
     "name": "stderr",
     "output_type": "stream",
     "text": [
      "."
     ]
    },
    {
     "name": "stderr",
     "output_type": "stream",
     "text": [
      "."
     ]
    },
    {
     "name": "stderr",
     "output_type": "stream",
     "text": [
      "."
     ]
    }
   ],
   "source": [
    "import unittest\n",
    "\n",
    "\n",
    "class 合資会社(持分会社):    \n",
    "    def __init__(self, 社員構成):\n",
    "        if len(社員構成) < 2:\n",
    "            raise Exception('構成員2名以上')\n",
    "        if 有限責任社員(直接責任()) not in 社員構成:\n",
    "            raise Exception('有限責任社員が必要')\n",
    "        if 無限責任社員(直接責任()) not in 社員構成:\n",
    "            raise Exception('無限責任社員が必要')\n",
    "\n",
    "        [社員.権利.append(業務執行権()) for 社員 in 社員構成]\n",
    "\n",
    "        self._社員 = 社員構成\n",
    "        self._法人格 = True\n",
    "\n",
    "        for 社員 in self._社員:\n",
    "            if type(社員) is type(有限責任社員(直接責任())):            \n",
    "                if 社員.資本['財産'] is None:\n",
    "                    raise Exception('直接有限責任社員の出資は金銭等に限られる')\n",
    "\n",
    "        [self._資本.append(社員.出資('財産')) for 社員 in self._社員]\n",
    "        [self._資本.append(社員.出資('信用')) for 社員 in self._社員 if type(社員) is type(無限責任社員(直接責任()))]\n",
    "        [self._資本.append(社員.出資('労務')) for 社員 in self._社員 if type(社員) is type(無限責任社員(直接責任()))]\n",
    "                \n",
    "\n",
    "class 合資会社テスト(unittest.TestCase):\n",
    "    def test_合資会社は持分会社(self):\n",
    "        self.assertTrue(issubclass(合資会社, 持分会社))\n",
    "\n",
    "    def test_合資会社は有限責任社員と無限責任社員で構成される(self):\n",
    "        社員1 = 有限責任社員(直接責任())\n",
    "        社員2 = 無限責任社員(直接責任())\n",
    "        会社 = 合資会社([社員1, 社員2])\n",
    "        self.assertIn(会社.社員[0], [社員1])\n",
    "        self.assertIn(会社.社員[1], [社員2])\n",
    "\n",
    "        with self.assertRaises(Exception) as cm:\n",
    "            合資会社([社員1])\n",
    "        self.assertEqual(cm.exception.args[0], '構成員2名以上')\n",
    "\n",
    "        with self.assertRaises(Exception) as cm:\n",
    "            合資会社([社員1,社員1])\n",
    "        self.assertEqual(cm.exception.args[0], '無限責任社員が必要')\n",
    "\n",
    "        with self.assertRaises(Exception) as cm:\n",
    "            合資会社([社員2,社員2])\n",
    "        self.assertEqual(cm.exception.args[0], '有限責任社員が必要')\n",
    "\n",
    "    def test_合資会社は所有と経営が一致している(self):\n",
    "        社員1 = 有限責任社員(直接責任())\n",
    "        社員2 = 無限責任社員(直接責任())\n",
    "        会社 = 合資会社([社員1, 社員2])\n",
    "        self.assertEqual(str(会社), '所有と経営が一致')\n",
    "\n",
    "    def test_合資会社は法人格を持つ(self):\n",
    "        社員1 = 有限責任社員(直接責任())\n",
    "        社員2 = 無限責任社員(直接責任())\n",
    "        会社 = 合資会社([社員1, 社員2])\n",
    "        self.assertTrue(会社.法人格)\n",
    "\n",
    "    def test_合資会社の各社員は原則として業務執行権を持つ(self):\n",
    "        社員1 = 有限責任社員(直接責任())\n",
    "        社員2 = 無限責任社員(直接責任())\n",
    "        会社 = 合資会社([社員1, 社員2])\n",
    "        self.assertIn(業務執行権(),会社.社員[0].権利)\n",
    "        self.assertIn(業務執行権(),会社.社員[1].権利)\n",
    "\n",
    "    def test_合資会社の直接有限責任社員の出資は金銭等に限られる(self):\n",
    "        社員1 = 有限責任社員(直接責任(),{'財産': None, '信用': 信用(), '労務': None})\n",
    "        社員2 = 無限責任社員(直接責任(),{'財産': 財産(), '信用': None, '労務': None})\n",
    "\n",
    "        with self.assertRaises(Exception) as cm:\n",
    "            会社 = 合資会社([社員1, 社員2])                    \n",
    "        self.assertEqual(cm.exception.args[0],'直接有限責任社員の出資は金銭等に限られる')\n",
    "\n",
    "    def test_合資会社の直接無限責任社員の出資は金銭等信用労務(self):\n",
    "        社員1 = 有限責任社員(直接責任(),{'財産': 財産(), '信用': None, '労務': None})\n",
    "        社員2 = 無限責任社員(直接責任(),{'財産': None, '信用': 信用(), '労務': 労務()})\n",
    "        会社 = 合資会社([社員1, 社員2])\n",
    "        self.assertIn(信用(),会社.資本)\n",
    "        self.assertIn(労務(),会社.資本)\n",
    "        \n",
    "\n",
    "if __name__ == '__main__':\n",
    "    unittest.main(argv=['first-arg-is-ignored'], exit=False)\n"
   ]
  },
  {
   "cell_type": "markdown",
   "metadata": {},
   "source": [
    "### 合同会社\n",
    "\n",
    "1. 定義\n",
    " \n",
    "    + 間接有限責任社員からなる持分会社\n",
    "    + 法人である以上、権利・義務の帰属主体となる\n",
    "\n",
    "1. 特質\n",
    "\n",
    "    + 各社員は原則として業務執行権を有し、義務を負う\n",
    "    + 出資は金銭等に限られ、信用・労務による出資はできない\n",
    "\n",
    "1. 設立\n",
    "\n",
    "     社員になろうとする物が、定款作成後、設立の登記をする時までに、その出資にかかわる金銭の全額を払込み、または、その出資にかかわる金銭以外の財産を全部給付しなければならない点は株式会社と同じ。\n",
    "　　"
   ]
  },
  {
   "cell_type": "code",
   "execution_count": 25,
   "metadata": {},
   "outputs": [
    {
     "name": "stderr",
     "output_type": "stream",
     "text": [
      "."
     ]
    },
    {
     "name": "stderr",
     "output_type": "stream",
     "text": [
      "."
     ]
    },
    {
     "name": "stderr",
     "output_type": "stream",
     "text": [
      "."
     ]
    },
    {
     "name": "stderr",
     "output_type": "stream",
     "text": [
      "."
     ]
    },
    {
     "name": "stderr",
     "output_type": "stream",
     "text": [
      "."
     ]
    },
    {
     "name": "stderr",
     "output_type": "stream",
     "text": [
      "."
     ]
    },
    {
     "name": "stderr",
     "output_type": "stream",
     "text": [
      "."
     ]
    },
    {
     "name": "stderr",
     "output_type": "stream",
     "text": [
      "."
     ]
    },
    {
     "name": "stderr",
     "output_type": "stream",
     "text": [
      "."
     ]
    },
    {
     "name": "stderr",
     "output_type": "stream",
     "text": [
      "."
     ]
    },
    {
     "name": "stderr",
     "output_type": "stream",
     "text": [
      "."
     ]
    },
    {
     "name": "stderr",
     "output_type": "stream",
     "text": [
      "."
     ]
    },
    {
     "name": "stderr",
     "output_type": "stream",
     "text": [
      "."
     ]
    },
    {
     "name": "stderr",
     "output_type": "stream",
     "text": [
      "."
     ]
    },
    {
     "name": "stderr",
     "output_type": "stream",
     "text": [
      "."
     ]
    }
   ],
   "source": [
    "import unittest\n",
    "\n",
    "class 合同会社(持分会社):\n",
    "    def __init__(self, 社員構成):\n",
    "        if 無限責任社員(直接責任()) in 社員構成:\n",
    "            raise Exception('有限責任社員のみ')\n",
    "        if 無限責任社員(間接責任()) in 社員構成:\n",
    "            raise Exception('有限責任社員のみ')\n",
    "\n",
    "        [社員.権利.append(業務執行権()) for 社員 in 社員構成]\n",
    "\n",
    "        self._社員 = 社員構成\n",
    "        self._法人格 = True\n",
    "\n",
    "        for 社員 in self._社員:\n",
    "            if 社員.資本['財産'] is None:\n",
    "                raise Exception('出資は金銭等に限られる')\n",
    "\n",
    "        [self._資本.append(社員.出資('財産')) for 社員 in self._社員]\n",
    "        \n",
    "    \n",
    "class 合同会社テスト(unittest.TestCase):\n",
    "    def test_合同会社は持分会社(self):\n",
    "        self.assertTrue(issubclass(合同会社, 持分会社))\n",
    "\n",
    "    def test_合同会社は有限責任社員のみで構成される(self):\n",
    "        社員 = 有限責任社員(間接責任())\n",
    "        会社 = 合同会社([社員])\n",
    "        self.assertIn(会社.社員[0], [社員])\n",
    "\n",
    "        with self.assertRaises(Exception) as cm:\n",
    "            合同会社([無限責任社員(間接責任())])\n",
    "        self.assertEqual(cm.exception.args[0], '有限責任社員のみ')\n",
    "\n",
    "    def test_合同会社は所有と経営が一致している(self):\n",
    "        社員 = 有限責任社員(間接責任)\n",
    "        会社 = 合同会社([社員])\n",
    "        self.assertEqual(str(会社), '所有と経営が一致')\n",
    "\n",
    "    def test_合同会社は法人格を持つ(self):\n",
    "        社員 = 有限責任社員(間接責任)\n",
    "        会社 = 合同会社([社員])\n",
    "        self.assertTrue(会社.法人格)\n",
    "\n",
    "    def test_合同会社の社員は原則として業務執行権を有し義務を負う(self):\n",
    "        社員 = 有限責任社員(間接責任)\n",
    "        会社 = 合同会社([社員])\n",
    "        self.assertIn(業務執行権(), 会社.社員[0].権利)\n",
    "\n",
    "    def test_合同会社の出資は金銭等に限られ信用労務による出資はできない(self):\n",
    "        社員 = 有限責任社員(間接責任,{'財産': 財産(), '信用': None, '労務': None})\n",
    "        会社 = 合同会社([社員])\n",
    "        self.assertIn(財産(), 会社.資本)\n",
    "        \n",
    "        社員 = 有限責任社員(間接責任,{'財産': None, '信用': 信用(), '労務': 労務()})\n",
    "        with self.assertRaises(Exception) as cm:\n",
    "            会社 = 合同会社([社員])\n",
    "        self.assertEqual(cm.exception.args[0],'出資は金銭等に限られる')\n",
    "        \n",
    "                \n",
    "if __name__ == '__main__':\n",
    "    unittest.main(argv=['first-arg-is-ignored'], exit=False)"
   ]
  },
  {
   "cell_type": "markdown",
   "metadata": {},
   "source": [
    "### 株式会社\n",
    "\n",
    "1. 定義\n",
    " \n",
    "    + 社員の地位が、細分化された割当的単位の形式をとる\n",
    "    + 間接有限責任社員から構成される\n",
    "    + 会社債権者に対しては直接の責任を負わない\n",
    "    + 法人である以上、権利・義務の帰属主体となる\n",
    "\n",
    "1. 特質\n",
    "\n",
    "    + 所有と経営の分離が認められる\n",
    "    + 株主は、間接有限責任しか負わない\n",
    "    + 期間設計の柔軟化が広く認められる\n",
    "    + 対価の柔軟性が認められるようになった\n",
    "    + 株主に退社制度が認められないことから、原則として株式の払い戻しは認められないが、株式を譲渡することで投下資本を回収できる\n"
   ]
  },
  {
   "cell_type": "code",
   "execution_count": 28,
   "metadata": {},
   "outputs": [
    {
     "name": "stderr",
     "output_type": "stream",
     "text": [
      "."
     ]
    },
    {
     "name": "stderr",
     "output_type": "stream",
     "text": [
      "."
     ]
    },
    {
     "name": "stderr",
     "output_type": "stream",
     "text": [
      "."
     ]
    },
    {
     "name": "stderr",
     "output_type": "stream",
     "text": [
      "."
     ]
    },
    {
     "name": "stderr",
     "output_type": "stream",
     "text": [
      "."
     ]
    },
    {
     "name": "stderr",
     "output_type": "stream",
     "text": [
      "."
     ]
    },
    {
     "name": "stderr",
     "output_type": "stream",
     "text": [
      "."
     ]
    },
    {
     "name": "stderr",
     "output_type": "stream",
     "text": [
      "."
     ]
    },
    {
     "name": "stderr",
     "output_type": "stream",
     "text": [
      "."
     ]
    },
    {
     "name": "stderr",
     "output_type": "stream",
     "text": [
      "."
     ]
    },
    {
     "name": "stderr",
     "output_type": "stream",
     "text": [
      "."
     ]
    },
    {
     "name": "stderr",
     "output_type": "stream",
     "text": [
      "."
     ]
    },
    {
     "name": "stderr",
     "output_type": "stream",
     "text": [
      "."
     ]
    },
    {
     "name": "stderr",
     "output_type": "stream",
     "text": [
      "."
     ]
    },
    {
     "name": "stderr",
     "output_type": "stream",
     "text": [
      "."
     ]
    },
    {
     "name": "stderr",
     "output_type": "stream",
     "text": [
      "."
     ]
    },
    {
     "name": "stderr",
     "output_type": "stream",
     "text": [
      "."
     ]
    },
    {
     "name": "stderr",
     "output_type": "stream",
     "text": [
      "."
     ]
    },
    {
     "name": "stderr",
     "output_type": "stream",
     "text": [
      "."
     ]
    },
    {
     "name": "stderr",
     "output_type": "stream",
     "text": [
      "F"
     ]
    },
    {
     "name": "stderr",
     "output_type": "stream",
     "text": [
      "."
     ]
    }
   ],
   "source": [
    "import unittest\n",
    "\n",
    "class 株式会社(物的会社):\n",
    "    def __init__(self, 社員構成):\n",
    "        if 無限責任社員(直接責任()) in 社員構成:\n",
    "            raise Exception('有限責任社員のみ')\n",
    "        self.__社員 = 社員構成\n",
    "        self.__法人格 = True\n",
    "\n",
    "    @property\n",
    "    def 社員(self):\n",
    "        return self.__社員\n",
    "\n",
    "    @property\n",
    "    def 法人格(self):\n",
    "        return self.__法人格\n",
    "\n",
    "    def 退社制度(self,社員):\n",
    "        raise Exception('退社制度は認められない')\n",
    "\n",
    "    def 株式の譲渡(self, 譲渡する社員):\n",
    "        self.__社員.remove(譲渡する社員)\n",
    "        self.__社員.append(有限責任社員(間接責任()))\n",
    "        \n",
    "\n",
    "class 特例有限会社(株式会社):\n",
    "    def __init__(self, 社員):\n",
    "        raise Exception('H18有限会社法廃止')\n",
    "        \n",
    "                \n",
    "class 株式会社テスト(unittest.TestCase):\n",
    "    def test_持分会社は会社(self):\n",
    "        self.assertTrue(issubclass(持分会社, 会社))\n",
    "\n",
    "    def test_株式会社は会社(self):\n",
    "        self.assertTrue(issubclass(株式会社, 会社))\n",
    "\n",
    "    def test_株式会社は物的会社(self):\n",
    "        self.assertTrue(issubclass(株式会社, 物的会社))\n",
    "\n",
    "    def test_株式会社は有限責任社員のみで構成される(self):\n",
    "        社員 = 有限責任社員(間接責任())\n",
    "        会社 = 株式会社([社員])\n",
    "        self.assertIn(会社.社員[0], [社員])\n",
    "\n",
    "        with self.assertRaises(Exception) as cm:\n",
    "            株式会社([無限責任社員(直接責任())])\n",
    "        self.assertEqual(cm.exception.args[0], '有限責任社員のみ')\n",
    "\n",
    "    def test_株式会社は所有と経営が分離(self):\n",
    "        会社 = 株式会社([有限責任社員(間接責任())])\n",
    "        self.assertEqual(str(会社), '所有と経営が分離')\n",
    "\n",
    "    def test_特例有限会社は株式会社(self):\n",
    "        self.assertTrue(issubclass(特例有限会社, 株式会社))\n",
    "\n",
    "    def test_H18有限責任会社廃止(self):\n",
    "        with self.assertRaises(Exception) as cm:\n",
    "            特例有限会社([有限責任社員(間接責任())])\n",
    "        self.assertEqual(cm.exception.args[0], 'H18有限会社法廃止')\n",
    "\n",
    "    def test_株式会社の社員は退社制度が認められない(self):\n",
    "        社員1 = 有限責任社員(間接責任())\n",
    "        社員2 = 有限責任社員(間接責任())\n",
    "        会社 = 株式会社([社員1, 社員2])\n",
    "        with self.assertRaises(Exception) as cm:\n",
    "            会社.退社制度(社員2)\n",
    "        self.assertEquals(cm.exception.args[0], '退社制度は認められない')\n",
    "        self.assertEqual(len(会社.社員), 2)\n",
    "\n",
    "    def test_株式会社の社員は株式を譲渡して投下資本を回収できる(self):\n",
    "        社員1 = 有限責任社員(間接責任())\n",
    "        社員2 = 有限責任社員(間接責任())\n",
    "        会社 = 株式会社([社員1, 社員2])\n",
    "        会社.株式の譲渡(社員2)\n",
    "        self.assertEquals(len(会社.社員), 2)\n",
    "\n",
    "if __name__ == '__main__':\n",
    "    unittest.main(argv=['first-arg-is-ignored'], exit=False)"
   ]
  }
 ],
 "metadata": {
  "kernelspec": {
   "display_name": "Python 3",
   "language": "python",
   "name": "python3"
  },
  "language_info": {
   "codemirror_mode": {
    "name": "ipython",
    "version": 3
   },
   "file_extension": ".py",
   "mimetype": "text/x-python",
   "name": "python",
   "nbconvert_exporter": "python",
   "pygments_lexer": "ipython3",
   "version": "3.7.0"
  }
 },
 "nbformat": 4,
 "nbformat_minor": 1
}

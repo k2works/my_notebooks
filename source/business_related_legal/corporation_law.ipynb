{
 "cells": [
  {
   "cell_type": "markdown",
   "metadata": {
    "collapsed": true
   },
   "source": [
    "# 会社法"
   ]
  },
  {
   "cell_type": "markdown",
   "metadata": {},
   "source": [
    "## 会社の種類\n",
    "\n",
    "1. 会社の種類\n",
    "1. 合名会社\n",
    "1. 合資会社\n",
    "1. 合同会社\n",
    "1. 株式会社\n",
    "1. 有限責任事業組合"
   ]
  },
  {
   "cell_type": "code",
   "execution_count": 19,
   "metadata": {},
   "outputs": [],
   "source": [
    "import iplantuml"
   ]
  },
  {
   "cell_type": "code",
   "execution_count": 48,
   "metadata": {},
   "outputs": [
    {
     "data": {
      "text/plain": [
       "<IPython.core.display.SVG object>"
      ]
     },
     "execution_count": 48,
     "metadata": {},
     "output_type": "execute_result"
    }
   ],
   "source": [
    "%%plantuml --jar\n",
    "\n",
    "@startuml\n",
    "class 会社\n",
    "会社 <|-- 持分会社\n",
    "会社 <|-- 株式会社\n",
    "持分会社 <|-- 合名会社\n",
    "持分会社 <|-- 合資会社\n",
    "持分会社 <|-- 合同会社\n",
    "株式会社 <|-- 特例有限会社\n",
    "\n",
    "class 社員\n",
    "社員 <|-- 無限責任社員\n",
    "社員 <|-- 有限責任社員\n",
    "@enduml"
   ]
  },
  {
   "cell_type": "code",
   "execution_count": 67,
   "metadata": {},
   "outputs": [
    {
     "name": "stderr",
     "output_type": "stream",
     "text": [
      "."
     ]
    },
    {
     "name": "stderr",
     "output_type": "stream",
     "text": [
      "."
     ]
    },
    {
     "name": "stderr",
     "output_type": "stream",
     "text": [
      "."
     ]
    },
    {
     "name": "stderr",
     "output_type": "stream",
     "text": [
      "."
     ]
    },
    {
     "name": "stderr",
     "output_type": "stream",
     "text": [
      "."
     ]
    },
    {
     "name": "stderr",
     "output_type": "stream",
     "text": [
      "."
     ]
    },
    {
     "name": "stderr",
     "output_type": "stream",
     "text": [
      "."
     ]
    }
   ],
   "source": [
    "import unittest\n",
    "\n",
    "\n",
    "class 会社:\n",
    "    def __init__(self, 社員):\n",
    "        self.社員 = 社員\n",
    "\n",
    "    def __str__(self):\n",
    "        return \"<MyObj: 社員='\" + self.社員 + \"'>\"\n",
    "\n",
    "    @property\n",
    "    def 社員(self):\n",
    "        return self.__社員\n",
    "\n",
    "    @社員.setter\n",
    "    def 社員(self, value):\n",
    "        if value != '':\n",
    "            self.__社員 = value\n",
    "\n",
    "\n",
    "\n",
    "\n",
    "class 持分会社(会社):\n",
    "    pass\n",
    "\n",
    "\n",
    "class 株式会社(会社):\n",
    "    pass\n",
    "\n",
    "\n",
    "class 合名会社(持分会社):\n",
    "    @property\n",
    "    def 社員(self):\n",
    "        return self.__社員\n",
    "\n",
    "    @社員.setter\n",
    "    def 社員(self, value):\n",
    "        for item in value:\n",
    "            if isinstance(item, 有限責任社員):\n",
    "                raise Exception('error')\n",
    "\n",
    "        if value != '':\n",
    "            self.__社員 = value\n",
    "\n",
    "\n",
    "class 合資会社(持分会社):\n",
    "    pass\n",
    "\n",
    "\n",
    "class 合同会社(持分会社):\n",
    "    pass\n",
    "\n",
    "\n",
    "class 特例有限会社(株式会社):\n",
    "    pass\n",
    "\n",
    "\n",
    "class 社員:\n",
    "    pass\n",
    "\n",
    "\n",
    "class 無限責任社員(社員):\n",
    "    pass\n",
    "\n",
    "\n",
    "class 有限責任社員(社員):\n",
    "    pass\n",
    "\n",
    "\n",
    "class 会社テスト(unittest.TestCase):\n",
    "    def test_持分会社(self):\n",
    "        self.assertTrue(issubclass(持分会社, 会社))\n",
    "\n",
    "    def test_株式会社(self):\n",
    "        self.assertTrue(issubclass(株式会社, 会社))\n",
    "\n",
    "    def test_合名会社(self):\n",
    "        self.assertTrue(issubclass(合名会社, 持分会社))\n",
    "        社員 = 無限責任社員()\n",
    "        会社 = 合名会社([社員])\n",
    "        self.assertIn(会社.社員[0], [社員])\n",
    "        with self.assertRaises(Exception):\n",
    "            合名会社([有限責任社員()])\n",
    "\n",
    "    def test_合資会社(self):\n",
    "        self.assertTrue(issubclass(合資会社, 持分会社))\n",
    "        社員1 = 有限責任社員()\n",
    "        社員2 = 無限責任社員()\n",
    "        会社 = 合資会社([社員1, 社員2])\n",
    "        self.assertIn(会社.社員[0], [社員1])\n",
    "        self.assertIn(会社.社員[1], [社員2])\n",
    "\n",
    "    def test_合同会社(self):\n",
    "        self.assertTrue(issubclass(合同会社, 持分会社))\n",
    "        社員 = 有限責任社員()\n",
    "        会社 = 合同会社([社員])\n",
    "        self.assertIn(会社.社員[0], [社員])\n",
    "\n",
    "    def test_株式会社(self):\n",
    "        社員 = 有限責任社員()\n",
    "        会社 = 株式会社([社員])\n",
    "        self.assertIn(会社.社員[0], [社員])\n",
    "\n",
    "    def test_特例有限会社(self):\n",
    "        self.assertTrue(issubclass(特例有限会社, 株式会社))\n",
    "        社員 = 有限責任社員()\n",
    "        会社 = 特例有限会社([社員])\n",
    "        self.assertIn(会社.社員[0], [社員])\n",
    "\n",
    "\n",
    "class 社員テスト(unittest.TestCase):\n",
    "    def test_無限責任社員(self):\n",
    "        self.assertTrue(issubclass(無限責任社員, 社員))\n",
    "\n",
    "    def test_有限責任社員(self):\n",
    "        self.assertTrue(issubclass(有限責任社員, 社員))\n",
    "\n",
    "\n",
    "if __name__ == '__main__':\n",
    "    unittest.main(argv=['first-arg-is-ignored'], exit=False)\n"
   ]
  },
  {
   "cell_type": "code",
   "execution_count": 13,
   "metadata": {},
   "outputs": [],
   "source": []
  }
 ],
 "metadata": {
  "kernelspec": {
   "display_name": "Python 3",
   "language": "python",
   "name": "python3"
  },
  "language_info": {
   "codemirror_mode": {
    "name": "ipython",
    "version": 3
   },
   "file_extension": ".py",
   "mimetype": "text/x-python",
   "name": "python",
   "nbconvert_exporter": "python",
   "pygments_lexer": "ipython3",
   "version": "3.7.0"
  }
 },
 "nbformat": 4,
 "nbformat_minor": 1
}

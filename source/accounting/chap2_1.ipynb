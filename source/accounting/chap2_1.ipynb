{
 "cells": [
  {
   "cell_type": "markdown",
   "metadata": {
    "collapsed": true
   },
   "source": [
    "# 流動性分析（短期・長期）\n",
    "安全性分析"
   ]
  },
  {
   "cell_type": "markdown",
   "metadata": {},
   "source": [
    "## 短期流動性の分析\n",
    "\n",
    "1. 流動比率\n",
    "$$\n",
    "流動比率(\\%) = \\frac{流動資産(*1)}{流動負債(*2)}\\times100\n",
    "$$\n",
    "*1 流動資産=貸借対照表の流動資産総額  \n",
    "*2 流動負債=貸借対照表の流動負債総額\n",
    "\n",
    "1. 当座比率\n",
    "$$\n",
    "当座比率(\\%) = \\frac{当座資産(*3)}{流動負債}\\times100\n",
    "$$\n",
    "*3 当座資産=現金・預金+受取手形+売掛金+有価証券（ただし、受取手形と売掛金は、貸倒引当金控除後の金額）"
   ]
  },
  {
   "cell_type": "markdown",
   "metadata": {},
   "source": [
    "## 長期流動性の分析\n",
    "\n",
    "### 長期的支払い能力を示す指標\n",
    "\n",
    "1. 固定比率\n",
    "$$\n",
    "固定比率(\\%) = \\frac{固定資産(*4)}{自己資本(*5)}\\times100\n",
    "$$\n",
    "*4 固定資産=貸借対照表の固定資産総額  \n",
    "*5 自己資本=貸借対照表の純資産の部-新株予約権（ー少数株主持分）\n",
    "1. 固定長期適合率\n",
    "$$\n",
    "固定長期適合率(\\%) = \\frac{固定資産}{固定負債(*6) + 自己資本}\\times100\n",
    "$$\n",
    "*6 固定負債＝貸借対照表の固定負債総額\n",
    "\n",
    "### 資本構成の安全性を示す指標\n",
    "\n",
    "1. 自己資本比率（株主資本比率）\n",
    "$$\n",
    "自己資本比率(\\%) = \\frac{自己資本}{総資本(*7)}\\times100\n",
    "$$\n",
    "*7 総資本 = 貸借対照表の負債の部と純資産の部の合計額\n",
    "1. 負債比率\n",
    "$$\n",
    "負債比率(\\%) = \\frac{負債(*8)}{自己資本}\\times100\n",
    "$$\n",
    "*8 負債=貸借対照表の負債総額\n"
   ]
  },
  {
   "cell_type": "markdown",
   "metadata": {},
   "source": []
  }
 ],
 "metadata": {
  "kernelspec": {
   "display_name": "Python 3",
   "language": "python",
   "name": "python3"
  },
  "language_info": {
   "codemirror_mode": {
    "name": "ipython",
    "version": 3
   },
   "file_extension": ".py",
   "mimetype": "text/x-python",
   "name": "python",
   "nbconvert_exporter": "python",
   "pygments_lexer": "ipython3",
   "version": "3.7.1"
  }
 },
 "nbformat": 4,
 "nbformat_minor": 1
}

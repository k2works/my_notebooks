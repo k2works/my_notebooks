{
 "cells": [
  {
   "cell_type": "markdown",
   "metadata": {
    "collapsed": true
   },
   "source": [
    "# キャッシュ・フロー計算書"
   ]
  },
  {
   "cell_type": "markdown",
   "metadata": {},
   "source": [
    "## キャッシュ・フロー計算書\n",
    "\n",
    "1. 企業価値評価のための情報提供\n",
    "1. 企業の資金繰り状況の把握"
   ]
  },
  {
   "cell_type": "markdown",
   "metadata": {},
   "source": [
    "## キャッシュ・フロー計算書のひな形"
   ]
  },
  {
   "cell_type": "markdown",
   "metadata": {},
   "source": [
    "## キャッシュ・フロー計算書の分析\n",
    "\n",
    "1. 営業活動によるキャッシュ・フロー\n",
    "1. 投資活動によるキャッシュ・フロー\n",
    "1. 財務活動によるキャッシュ・フロー"
   ]
  },
  {
   "cell_type": "code",
   "execution_count": 20,
   "metadata": {},
   "outputs": [
    {
     "name": "stderr",
     "output_type": "stream",
     "text": [
      ".\n",
      "----------------------------------------------------------------------\n",
      "Ran 1 test in 0.001s\n",
      "\n",
      "OK\n"
     ]
    }
   ],
   "source": [
    "import unittest\n",
    "import sys\n",
    "import notebookutil as nbu\n",
    "sys.meta_path.append(nbu.NotebookFinder())\n",
    "from src.cashflows_statement import *\n",
    "\n",
    "\n",
    "class Testキャッシュフロー計算書(unittest.TestCase):\n",
    "    def setUp(self):\n",
    "        _営業活動によるキャッシュフロー内訳 = [\n",
    "            税引前当期純利益(30),\n",
    "            減価償却費(25),\n",
    "            貸倒引当金の増加額(2),\n",
    "            受取利息および受取配当金(-3),\n",
    "            支払利息(2),\n",
    "            有形固定資産売却損益(-2),\n",
    "            売上債権の増加額(-10),\n",
    "            棚卸資産の増加額(-4),\n",
    "            仕入債務の増加額(10),\n",
    "            利息および配当金の受取額(2),\n",
    "            利息の支払額(-1),\n",
    "            法人税等の支払額(-12)\n",
    "        ]\n",
    "        _投資活動によるキャッシュフロー内訳 = [\n",
    "            有価証券の取得による支出(-10),\n",
    "            有価証券の売却による収入(20),\n",
    "            有形固定資産の取得による支出(-50),\n",
    "            有形固定資産の売却による収入(1),\n",
    "            投資有価証券の取得による支出(-2),\n",
    "            投資有価証券の売却による収入(1),\n",
    "            貸付けによる支出(-3),\n",
    "            貸付金の回収による収入(5)\n",
    "        ]\n",
    "        _財務活動によるキャッシュフロー内訳 = [\n",
    "            短期借入れによる収入(20),\n",
    "            短期借入金の返済による支出(-5),\n",
    "            長期借入れによる収入(15),\n",
    "            長期借入金の返済による支出(-18),\n",
    "            社債の発行による収入(10),\n",
    "            社債の償還による支出(-2),\n",
    "            株式の発行による収入(10),\n",
    "            自己株式の取得による支出(-10),\n",
    "            配当金の支払額(-5)\n",
    "        ]\n",
    "        self.キャッシュフロー計算書 = キャッシュフロー計算書(\n",
    "            営業活動によるキャッシュフロー(_営業活動によるキャッシュフロー内訳),\n",
    "            投資活動によるキャッシュフロー(_投資活動によるキャッシュフロー内訳),\n",
    "            財務活動によるキャッシュフロー(_財務活動によるキャッシュフロー内訳),\n",
    "            現金および現金同等物の期首残高(24)\n",
    "        )\n",
    "\n",
    "    def test営業活動によるキャッシュフロー(self):\n",
    "        self.assertEqual(\n",
    "            キャッシュフロー(39).金額, self.キャッシュフロー計算書.営業活動によるキャッシュフロー合計.金額)\n",
    "\n",
    "    def test投資活動によるキャッシュフロー(self):\n",
    "        self.assertEqual(キャッシュフロー(-38).金額, self.キャッシュフロー計算書.投資活動によるキャッシュフロー合計.金額)\n",
    "\n",
    "    def test財務活動によるキャッシュフロー(self):\n",
    "        self.assertEqual(\n",
    "            キャッシュフロー(15).金額, self.キャッシュフロー計算書.財務活動によるキャッシュフロー合計.金額)\n",
    "\n",
    "    def test現金および現金同等物の増加額(self):\n",
    "        self.assertEqual(キャッシュフロー(16).金額, self.キャッシュフロー計算書.現金および現金同等物の増加額.金額)\n",
    "\n",
    "    def test現金および現金同等物の期首残高(self):\n",
    "        self.assertEqual(キャッシュフロー(24).金額, self.キャッシュフロー計算書.現金および現金同等物の期首残高.金額)\n",
    "\n",
    "    def test現金および現金同等物の期末残高(self):\n",
    "        self.assertEqual(キャッシュフロー(40).金額, self.キャッシュフロー計算書.現金および現金同等物の期末残高.金額)\n",
    "\n",
    "\n",
    "\n",
    "if __name__ == \"__main__\":\n",
    "    unittest.main(argv=[''],exit=False)\n"
   ]
  }
 ],
 "metadata": {
  "kernelspec": {
   "display_name": "Python 3",
   "language": "python",
   "name": "python3"
  },
  "language_info": {
   "codemirror_mode": {
    "name": "ipython",
    "version": 3
   },
   "file_extension": ".py",
   "mimetype": "text/x-python",
   "name": "python",
   "nbconvert_exporter": "python",
   "pygments_lexer": "ipython3",
   "version": "3.7.1"
  }
 },
 "nbformat": 4,
 "nbformat_minor": 1
}

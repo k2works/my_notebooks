{
 "cells": [
  {
   "cell_type": "markdown",
   "metadata": {
    "collapsed": true
   },
   "source": [
    "# 貸借対照表"
   ]
  },
  {
   "cell_type": "markdown",
   "metadata": {},
   "source": [
    "## 貸借対照表のひな形\n",
    "\n",
    "### 流動資産\n",
    "- 現金・預金\n",
    "- 売掛金\n",
    "- 受取手形\n",
    "- 貸倒引当金\n",
    "- 有価証券\n",
    "- 商品\n",
    "\n",
    "### 固定資産\n",
    "\n",
    "#### 有形固定資産に含まれるもの\n",
    "- 建物\n",
    "- 土地\n",
    "- 備品\n",
    "- 車両運搬具\n",
    "\n",
    "#### 無形固定資産に含まれるもの\n",
    "- ソフトウェア\n",
    "- のれん\n",
    "\n",
    "### 流動負債\n",
    "- 買掛金\n",
    "- 支払手形\n",
    "- 短期借入金\n",
    "- 未払法人税等\n",
    "\n",
    "### 固定負債\n",
    "- 社債\n",
    "- 長期借入金"
   ]
  },
  {
   "cell_type": "markdown",
   "metadata": {},
   "source": [
    "## 正常営業循環基準"
   ]
  },
  {
   "cell_type": "markdown",
   "metadata": {},
   "source": [
    "## １年基準（ワン・イヤー・ルール）"
   ]
  },
  {
   "cell_type": "markdown",
   "metadata": {},
   "source": [
    "## 注意すべき流動固定分類\n",
    "\n",
    "1. 恒常在庫・・・流動資産\n",
    "1. 耐用年数が１年未満になった固定資産・・・固定資産\n",
    "1. （定期）預金・・・営業活動から生じたものではないので、1年基準が適用される。\n",
    "   １年以内に満期が到来：流動資産　1年を超えて到来：固定資産\n",
    "1. 経過勘定項目・・・前払費用だけ1年基準を適用。それ以外・・・流動項目      "
   ]
  }
 ],
 "metadata": {
  "kernelspec": {
   "display_name": "Python 3",
   "language": "python",
   "name": "python3"
  },
  "language_info": {
   "codemirror_mode": {
    "name": "ipython",
    "version": 3
   },
   "file_extension": ".py",
   "mimetype": "text/x-python",
   "name": "python",
   "nbconvert_exporter": "python",
   "pygments_lexer": "ipython3",
   "version": "3.7.1"
  }
 },
 "nbformat": 4,
 "nbformat_minor": 1
}

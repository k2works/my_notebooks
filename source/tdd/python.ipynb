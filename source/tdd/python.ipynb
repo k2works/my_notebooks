{
 "cells": [
  {
   "cell_type": "markdown",
   "metadata": {},
   "source": [
    "# jupyterでTDDをやってみる\n",
    "\n",
    "\n",
    "## 仕様\n",
    "\n",
    ">1 から 100 までの数をプリントするプログラムを書け。 ただし 3 の倍数のときは数の代わりに｢Fizz｣と、5 の倍数のときは｢Buzz｣とプリントし、3 と 5 両方の倍数の場合には｢FizzBuzz｣とプリントすること。\n",
    "\n",
    "## 設計\n",
    "### TODO リスト\n",
    "-  1 から 100 まで数をプリントできるようにする。\n",
    "-  3 の倍数のときは数の代わりに｢Fizz｣をプリントできるようにする。\n",
    "-  5 の倍数のときは｢Buzz｣とプリントできるようにする。\n",
    "-  3 と 5 両方の倍数の場合には｢FizzBuzz｣とプリントできるようにする。"
   ]
  },
  {
   "cell_type": "code",
   "execution_count": 10,
   "metadata": {
    "pycharm": {
     "is_executing": false
    }
   },
   "outputs": [
    {
     "name": "stderr",
     "text": [
      ".",
      ".",
      "\n----------------------------------------------------------------------\nRan 2 tests in 0.003s\n\nOK\n"
     ],
     "output_type": "stream"
    },
    {
     "data": {
      "text/plain": "<unittest.main.TestProgram at 0x111827710>"
     },
     "metadata": {},
     "output_type": "execute_result",
     "execution_count": 10
    }
   ],
   "source": [
    "import unittest\n",
    "\n",
    "def fizz_buzz(number):\n",
    "    return 'Fizz'\n",
    "\n",
    "def add(arg1, arg2):\n",
    "    return arg1 + arg2\n",
    "\n",
    "class FizzBuzzTest(unittest.TestCase):\n",
    "    def test1足す1は2である(self):\n",
    "        self.assertEqual(add(1,1), 2)\n",
    "        \n",
    "    def test3の倍数のときはFizzを出す(self):\n",
    "        self.assertEqual(fizz_buzz(3),'Fizz')\n",
    "\n",
    "\n",
    "unittest.main(argv=['first-arg-is-ignored'],exit=False)"
   ]
  }
 ],
 "metadata": {
  "kernelspec": {
   "display_name": "Python 3",
   "language": "python",
   "name": "python3"
  },
  "language_info": {
   "codemirror_mode": {
    "name": "ipython",
    "version": 3
   },
   "file_extension": ".py",
   "mimetype": "text/x-python",
   "name": "python",
   "nbconvert_exporter": "python",
   "pygments_lexer": "ipython3",
   "version": "3.7.2"
  },
  "pycharm": {
   "stem_cell": {
    "cell_type": "raw",
    "source": [],
    "metadata": {
     "collapsed": false
    }
   }
  }
 },
 "nbformat": 4,
 "nbformat_minor": 2
}

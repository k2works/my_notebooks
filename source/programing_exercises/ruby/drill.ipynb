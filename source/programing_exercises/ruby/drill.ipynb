{
 "cells": [
  {
   "cell_type": "markdown",
   "metadata": {
    "collapsed": true
   },
   "source": [
    "# Ruby"
   ]
  },
  {
   "cell_type": "markdown",
   "metadata": {},
   "source": [
    "## FizzBuzz"
   ]
  },
  {
   "cell_type": "code",
   "execution_count": 11,
   "metadata": {},
   "outputs": [
    {
     "data": {
      "text/plain": [
       "#<Class:0x00007fe04a239740>"
      ]
     },
     "execution_count": 11,
     "metadata": {},
     "output_type": "execute_result"
    }
   ],
   "source": [
    "class FizzBuzz\n",
    "end\n",
    "\n",
    "require 'minitest/autorun'\n",
    "class FizzBuzSpec < Minitest::Spec\n",
    "  describe FizzBuzz do\n",
    "    it '3ならばFizzを返す' do\n",
    "      expect(3).must_equal 'Fizz'\n",
    "    end\n",
    "  end\n",
    "end\n",
    "      "
   ]
  }
 ],
 "metadata": {
  "kernelspec": {
   "display_name": "Ruby 2.4.4",
   "language": "ruby",
   "name": "ruby"
  },
  "language_info": {
   "file_extension": ".rb",
   "mimetype": "application/x-ruby",
   "name": "ruby",
   "version": "2.4.4"
  }
 },
 "nbformat": 4,
 "nbformat_minor": 1
}
